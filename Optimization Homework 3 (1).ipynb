{
 "cells": [
  {
   "cell_type": "markdown",
   "metadata": {},
   "source": [
    "## Assignment 3 - Predicting Airbnb Prices"
   ]
  },
  {
   "cell_type": "markdown",
   "metadata": {},
   "source": [
    "### <i> Group Members: Sayantan Raut, Dhruv Jain, Shubhankar Rekhade </i> \n"
   ]
  },
  {
   "attachments": {
    "image.png": {
     "image/png": "[encoded data removed]"
    }
   },
   "cell_type": "markdown",
   "metadata": {},
   "source": [
    "The file AirbnbTrain.csv contains data on 1700 Airbnb listings in Hollywood, CA. The dataset\n",
    "contains features such as the location (by latitude and longitude), number of guests accomodated,\n",
    "number of beds, and other variables. The dataset also contains the price per night of each Airbnb\n",
    "listing. Your assignment will be to formulate an optimization model to predict the price of Airbnb\n",
    "listings using this dataset.\n",
    "Note: Given a set of model coefficients β1, β2, . . . , βd, the average prediction error of the model β\n",
    "for a data set (xi, yi), i = 1, . . . , n is given by:\n",
    "<center>\n",
    "\n",
    "![image.png](attachment:image.png)\n",
    "</center>\n",
    "\n"
   ]
  },
  {
   "cell_type": "markdown",
   "metadata": {},
   "source": [
    "#### Question 1:\n",
    "Model 1. Formulate the least absolute deviations regression problem as a linear program. Solve the linear program using the data given in the file AirbnbTrain.csv. What is the prediction error, in $/night, of your model on the test set (provided in AirbnbTest.csv)?"
   ]
  },
  {
   "cell_type": "code",
   "execution_count": 19,
   "metadata": {},
   "outputs": [
    {
     "data": {
      "text/html": [
       "<div>\n",
       "<style scoped>\n",
       "    .dataframe tbody tr th:only-of-type {\n",
       "        vertical-align: middle;\n",
       "    }\n",
       "\n",
       "    .dataframe tbody tr th {\n",
       "        vertical-align: top;\n",
       "    }\n",
       "\n",
       "    .dataframe thead th {\n",
       "        text-align: right;\n",
       "    }\n",
       "</style>\n",
       "<table border=\"1\" class=\"dataframe\">\n",
       "  <thead>\n",
       "    <tr style=\"text-align: right;\">\n",
       "      <th></th>\n",
       "      <th>latitude</th>\n",
       "      <th>longitude</th>\n",
       "      <th>Entire home</th>\n",
       "      <th>accommodates</th>\n",
       "      <th>bathrooms</th>\n",
       "      <th>bedrooms</th>\n",
       "      <th>beds</th>\n",
       "      <th>cleaning_fee</th>\n",
       "      <th>minimum_nights</th>\n",
       "      <th>number_of_reviews</th>\n",
       "      <th>review_scores_rating</th>\n",
       "      <th>instant_bookable</th>\n",
       "    </tr>\n",
       "  </thead>\n",
       "  <tbody>\n",
       "    <tr>\n",
       "      <th>0</th>\n",
       "      <td>34.103701</td>\n",
       "      <td>-118.332241</td>\n",
       "      <td>1</td>\n",
       "      <td>13</td>\n",
       "      <td>2.0</td>\n",
       "      <td>3</td>\n",
       "      <td>2</td>\n",
       "      <td>150</td>\n",
       "      <td>2</td>\n",
       "      <td>1</td>\n",
       "      <td>100</td>\n",
       "      <td>1</td>\n",
       "    </tr>\n",
       "    <tr>\n",
       "      <th>1</th>\n",
       "      <td>34.099484</td>\n",
       "      <td>-118.331645</td>\n",
       "      <td>1</td>\n",
       "      <td>8</td>\n",
       "      <td>2.0</td>\n",
       "      <td>2</td>\n",
       "      <td>4</td>\n",
       "      <td>150</td>\n",
       "      <td>1</td>\n",
       "      <td>11</td>\n",
       "      <td>96</td>\n",
       "      <td>1</td>\n",
       "    </tr>\n",
       "    <tr>\n",
       "      <th>2</th>\n",
       "      <td>34.104321</td>\n",
       "      <td>-118.329662</td>\n",
       "      <td>1</td>\n",
       "      <td>4</td>\n",
       "      <td>1.0</td>\n",
       "      <td>0</td>\n",
       "      <td>1</td>\n",
       "      <td>55</td>\n",
       "      <td>1</td>\n",
       "      <td>1</td>\n",
       "      <td>80</td>\n",
       "      <td>0</td>\n",
       "    </tr>\n",
       "    <tr>\n",
       "      <th>3</th>\n",
       "      <td>34.101028</td>\n",
       "      <td>-118.317848</td>\n",
       "      <td>0</td>\n",
       "      <td>2</td>\n",
       "      <td>1.0</td>\n",
       "      <td>1</td>\n",
       "      <td>1</td>\n",
       "      <td>20</td>\n",
       "      <td>1</td>\n",
       "      <td>8</td>\n",
       "      <td>98</td>\n",
       "      <td>0</td>\n",
       "    </tr>\n",
       "    <tr>\n",
       "      <th>4</th>\n",
       "      <td>34.098292</td>\n",
       "      <td>-118.324980</td>\n",
       "      <td>1</td>\n",
       "      <td>2</td>\n",
       "      <td>1.0</td>\n",
       "      <td>1</td>\n",
       "      <td>1</td>\n",
       "      <td>20</td>\n",
       "      <td>1</td>\n",
       "      <td>11</td>\n",
       "      <td>96</td>\n",
       "      <td>0</td>\n",
       "    </tr>\n",
       "  </tbody>\n",
       "</table>\n",
       "</div>"
      ],
      "text/plain": [
       "    latitude   longitude  Entire home  accommodates  bathrooms  bedrooms  \\\n",
       "0  34.103701 -118.332241            1            13        2.0         3   \n",
       "1  34.099484 -118.331645            1             8        2.0         2   \n",
       "2  34.104321 -118.329662            1             4        1.0         0   \n",
       "3  34.101028 -118.317848            0             2        1.0         1   \n",
       "4  34.098292 -118.324980            1             2        1.0         1   \n",
       "\n",
       "   beds  cleaning_fee  minimum_nights  number_of_reviews  \\\n",
       "0     2           150               2                  1   \n",
       "1     4           150               1                 11   \n",
       "2     1            55               1                  1   \n",
       "3     1            20               1                  8   \n",
       "4     1            20               1                 11   \n",
       "\n",
       "   review_scores_rating  instant_bookable  \n",
       "0                   100                 1  \n",
       "1                    96                 1  \n",
       "2                    80                 0  \n",
       "3                    98                 0  \n",
       "4                    96                 0  "
      ]
     },
     "execution_count": 19,
     "metadata": {},
     "output_type": "execute_result"
    }
   ],
   "source": [
    "import pandas as pd\n",
    "from gurobipy import *\n",
    "import numpy as np\n",
    "\n",
    "train_data = pd.read_csv('AirbnbTrain.csv')\n",
    "\n",
    "test_data = pd.read_csv('AirbnbTest.csv')\n",
    "\n",
    "X_train_not_coded = train_data.drop(columns=['price'])\n",
    "y_train_not_coded = train_data['price']\n",
    "\n",
    "X_test_not_coded = test_data.drop(columns=['price'])\n",
    "y_test_not_coded = test_data['price']\n",
    "\n",
    "X_train_not_coded.head()"
   ]
  },
  {
   "cell_type": "code",
   "execution_count": 20,
   "metadata": {},
   "outputs": [
    {
     "name": "stdout",
     "output_type": "stream",
     "text": [
      "Gurobi Optimizer version 11.0.0 build v11.0.0rc2 (mac64[rosetta2] - Darwin 23.0.0 23A344)\n",
      "\n",
      "CPU model: Apple M1\n",
      "Thread count: 8 physical cores, 8 logical processors, using up to 8 threads\n",
      "\n",
      "Optimize a model with 3400 rows, 1712 columns and 41372 nonzeros\n",
      "Model fingerprint: 0x473882ba\n",
      "Coefficient statistics:\n",
      "  Matrix range     [5e-01, 5e+02]\n",
      "  Objective range  [6e-04, 6e-04]\n",
      "  Bounds range     [0e+00, 0e+00]\n",
      "  RHS range        [1e+01, 2e+03]\n",
      "Presolve time: 0.01s\n",
      "Presolved: 3400 rows, 1712 columns, 41372 nonzeros\n",
      "\n",
      "Concurrent LP optimizer: primal simplex, dual simplex, and barrier\n",
      "Showing barrier log only...\n",
      "\n",
      "Ordering time: 0.00s\n",
      "\n",
      "Barrier statistics:\n",
      " Dense cols : 12\n",
      " AA' NZ     : 2.995e+04\n",
      " Factor NZ  : 3.260e+04 (roughly 2 MB of memory)\n",
      " Factor Ops : 4.141e+05 (less than 1 second per iteration)\n",
      " Threads    : 1\n",
      "\n",
      "                  Objective                Residual\n",
      "Iter       Primal          Dual         Primal    Dual     Compl     Time\n",
      "   0   2.13176381e+03  0.00000000e+00  1.36e+03 0.00e+00  2.72e+01     0s\n",
      "   1   1.42686270e+03  1.34119445e+00  0.00e+00 2.37e-04  3.00e+00     0s\n",
      "   2   1.57239143e+02  4.40229493e+00  0.00e+00 6.27e-05  3.18e-01     0s\n",
      "   3   4.71971537e+01  1.62843637e+01  0.00e+00 1.20e-05  6.40e-02     0s\n",
      "   4   3.86444102e+01  3.23128368e+01  0.00e+00 2.78e-17  1.31e-02     0s\n",
      "   5   3.72124774e+01  3.53526314e+01  0.00e+00 2.78e-17  3.84e-03     0s\n",
      "   6   3.66559332e+01  3.61349388e+01  0.00e+00 2.78e-17  1.08e-03     0s\n",
      "   7   3.65009139e+01  3.63156494e+01  0.00e+00 2.78e-17  3.83e-04     0s\n",
      "   8   3.64480314e+01  3.64077685e+01  0.00e+00 2.78e-17  8.32e-05     0s\n",
      "   9   3.64281788e+01  3.64238937e+01  0.00e+00 2.78e-17  8.86e-06     0s\n",
      "  10   3.64263453e+01  3.64258582e+01  0.00e+00 2.78e-17  1.01e-06     0s\n",
      "  11   3.64262531e+01  3.64262432e+01  0.00e+00 1.35e-11  2.06e-08     0s\n",
      "  12   3.64262474e+01  3.64262474e+01  0.00e+00 1.34e-10  2.29e-11     0s\n",
      "\n",
      "Barrier solved model in 12 iterations and 0.08 seconds (0.05 work units)\n",
      "Optimal objective 3.64262474e+01\n",
      "\n",
      "Crossover log...\n",
      "\n",
      "      18 DPushes remaining with DInf 0.0000000e+00                 0s\n",
      "       0 DPushes remaining with DInf 0.0000000e+00                 0s\n",
      "\n",
      "       0 PPushes remaining with PInf 0.0000000e+00                 0s\n",
      "\n",
      "  Push phase complete: Pinf 0.0000000e+00, Dinf 3.3011788e-15      0s\n",
      "\n",
      "\n",
      "Solved with barrier\n",
      "Iteration    Objective       Primal Inf.    Dual Inf.      Time\n",
      "      21    3.6426247e+01   0.000000e+00   0.000000e+00      0s\n",
      "\n",
      "Use crossover to convert LP symmetric solution to basic solution...\n",
      "Crossover log...\n",
      "\n",
      "       0 DPushes remaining with DInf 0.0000000e+00                 0s\n",
      "\n",
      "       0 PPushes remaining with PInf 0.0000000e+00                 0s\n",
      "\n",
      "  Push phase complete: Pinf 0.0000000e+00, Dinf 2.0270244e-15      0s\n",
      "\n",
      "Iteration    Objective       Primal Inf.    Dual Inf.      Time\n",
      "      37    3.6426247e+01   0.000000e+00   0.000000e+00      0s\n",
      "\n",
      "Solved in 37 iterations and 0.10 seconds (0.06 work units)\n",
      "Optimal objective  3.642624740e+01\n"
     ]
    }
   ],
   "source": [
    "model1 = Model()\n",
    "\n",
    "total_features = X_train_not_coded.shape[1]\n",
    "total_obs = len(X_train_not_coded)\n",
    "\n",
    "b = model1.addVars(total_features, vtype = GRB.CONTINUOUS)\n",
    "z = model1.addVars(total_obs, vtype = GRB.CONTINUOUS)\n",
    "\n",
    "# Objective function:\n",
    "model1.setObjective((1/total_obs)*(sum(z[i] for i in range(total_obs))), GRB.MINIMIZE)\n",
    "\n",
    "# Cosntraints:\n",
    "for i in range(total_obs):\n",
    "    model1.addConstr(z[i] >= y_train_not_coded.iloc[i] - sum(X_train_not_coded.iloc[i, j] * b[j] for j in range(total_features)))\n",
    "    model1.addConstr(z[i] >= sum(X_train_not_coded.iloc[i, j] * b[j] for j in range(total_features)) - y_train_not_coded.iloc[i])\n",
    "\n",
    "model1.update()\n",
    "model1.optimize()"
   ]
  },
  {
   "cell_type": "code",
   "execution_count": 21,
   "metadata": {},
   "outputs": [
    {
     "name": "stdout",
     "output_type": "stream",
     "text": [
      "[290.251466351811, 84.03092762129587, 36.78323755553764, 9.936817142125031, 31.69433118878847, 19.703957114477934, 0.0, 0.3106162814102505, 0.0, 0.0, 0.2681158824601207, 5.1674543733493]\n",
      "Average Prediction Error:  35.6\n"
     ]
    }
   ],
   "source": [
    "coeffs = [b[j].x for j in range(total_features)]\n",
    "print(coeffs)\n",
    "\n",
    "y_pred = X_test_not_coded.dot(coeffs)\n",
    "\n",
    "pred_error = np.round(abs(y_pred - y_test_not_coded).mean(), 2)\n",
    "print(\"Average Prediction Error: \", pred_error)"
   ]
  },
  {
   "cell_type": "markdown",
   "metadata": {},
   "source": [
    "The average prediction error that we see above is <b>$35.6 / night</b>"
   ]
  },
  {
   "cell_type": "markdown",
   "metadata": {},
   "source": [
    "#### Question 2:\n",
    "Model 2. Suppose that to improve interpretability, you wish to build a model that predicts Airbnb prices using only the three most important variables. Modify Model 1 by including a constraint that allows at most three variables to have non-zero coefficients.\n",
    "1. List the names and coefficients of the three variables selected by the optimization model.\n",
    "2. What is the new prediction error, in $/night, of Model 2?"
   ]
  },
  {
   "cell_type": "code",
   "execution_count": 22,
   "metadata": {},
   "outputs": [
    {
     "name": "stdout",
     "output_type": "stream",
     "text": [
      "Gurobi Optimizer version 11.0.0 build v11.0.0rc2 (mac64[rosetta2] - Darwin 23.0.0 23A344)\n",
      "\n",
      "CPU model: Apple M1\n",
      "Thread count: 8 physical cores, 8 logical processors, using up to 8 threads\n",
      "\n",
      "Optimize a model with 1 rows, 1724 columns and 12 nonzeros\n",
      "Model fingerprint: 0x8a56caa9\n",
      "Model has 3400 quadratic constraints\n",
      "Variable types: 1712 continuous, 12 integer (12 binary)\n",
      "Coefficient statistics:\n",
      "  Matrix range     [1e+00, 1e+00]\n",
      "  QMatrix range    [5e-01, 5e+02]\n",
      "  QLMatrix range   [1e+00, 1e+00]\n",
      "  Objective range  [6e-04, 6e-04]\n",
      "  Bounds range     [1e+00, 1e+00]\n",
      "  RHS range        [3e+00, 3e+00]\n",
      "  QRHS range       [1e+01, 2e+03]\n",
      "Found heuristic solution: objective 2.000000e+09\n",
      "Presolve added 824 rows and 410 columns\n",
      "Presolve time: 0.06s\n",
      "Presolved: 3421 rows, 2170 columns, 32958 nonzeros\n",
      "Presolved model has 24 SOS constraint(s)\n",
      "Found heuristic solution: objective 144.9682353\n",
      "Variable types: 2146 continuous, 24 integer (24 binary)\n",
      "\n",
      "Root relaxation: objective 3.642625e+01, 2205 iterations, 0.17 seconds (0.42 work units)\n",
      "\n",
      "    Nodes    |    Current Node    |     Objective Bounds      |     Work\n",
      " Expl Unexpl |  Obj  Depth IntInf | Incumbent    BestBd   Gap | It/Node Time\n",
      "\n",
      "     0     0   36.42625    0    9  144.96824   36.42625  74.9%     -    0s\n",
      "     0     0   36.42625    0    9  144.96824   36.42625  74.9%     -    0s\n",
      "H    0     0                      90.6988235   36.42625  59.8%     -    0s\n",
      "     0     0   36.42625    0    9   90.69882   36.42625  59.8%     -    0s\n",
      "H    0     0                      90.6988227   36.42625  59.8%     -    0s\n",
      "     0     2   36.42625    0    9   90.69882   36.42625  59.8%     -    0s\n",
      "*    7    14               3      48.0928501   36.42625  24.3%   157    0s\n",
      "*   16    18               4      39.2200000   36.45828  7.04%   168    0s\n",
      "*   39    12               6      38.3388235   37.26238  2.81%   155    0s\n",
      "\n",
      "Explored 56 nodes (9130 simplex iterations) in 0.79 seconds (1.84 work units)\n",
      "Thread count was 8 (of 8 available processors)\n",
      "\n",
      "Solution count 6: 38.3388 39.22 48.0929 ... 2e+09\n",
      "\n",
      "Optimal solution found (tolerance 1.00e-04)\n",
      "Best objective 3.833882352941e+01, best bound 3.833882352941e+01, gap 0.0000%\n"
     ]
    }
   ],
   "source": [
    "model2 = Model()\n",
    "\n",
    "b_2 = model2.addVars(total_features, vtype = GRB.CONTINUOUS)\n",
    "z = model2.addVars(total_obs, vtype = GRB.CONTINUOUS)\n",
    "f = model2.addVars(total_features, vtype = GRB.BINARY)\n",
    "\n",
    "# Objective function:\n",
    "model2.setObjective((1/total_obs)*sum(z[i] for i in range(total_obs)), GRB.MINIMIZE)\n",
    "\n",
    "# Cosntraints:\n",
    "for i in range(total_obs):\n",
    "    model2.addConstr(z[i] >= y_train_not_coded.iloc[i] - sum(X_train_not_coded.iloc[i, j] * b_2[j] * f[j] for j in range(total_features)))\n",
    "    model2.addConstr(z[i] >= sum(X_train_not_coded.iloc[i, j] * b_2[j] * f[j] for j in range(total_features)) - y_train_not_coded.iloc[i])\n",
    "\n",
    "model2.addConstr(sum(f[j] for j in range (total_features)) <= 3)\n",
    "\n",
    "model2.update()\n",
    "model2.optimize()"
   ]
  },
  {
   "cell_type": "code",
   "execution_count": 23,
   "metadata": {},
   "outputs": [
    {
     "name": "stdout",
     "output_type": "stream",
     "text": [
      "3 variables in the model:\n",
      "Entire home   52.0\n",
      "accommodates   14.0\n",
      "bedrooms   32.0\n",
      "\n",
      "Average Prediction Error:  37.74\n"
     ]
    }
   ],
   "source": [
    "coeffs = [b_2[j].x for j in range(total_features)]\n",
    "# print(coeffs)\n",
    "\n",
    "nonzero_coeffs = [(j, b_2[j].x) for j in range(total_features) if b_2[j].x > 0]\n",
    "\n",
    "# printing as table\n",
    "print(\"3 variables in the model:\")\n",
    "for k,v in nonzero_coeffs:\n",
    "    print(X_train_not_coded.columns[k], \" \", v)\n",
    "\n",
    "y_pred = X_test_not_coded.dot(coeffs)\n",
    "\n",
    "pred_error = np.round(abs(y_pred - y_test_not_coded).mean(), 2)\n",
    "print(\"\\nAverage Prediction Error: \", pred_error)"
   ]
  },
  {
   "cell_type": "markdown",
   "metadata": {},
   "source": [
    "The names and coefficients of the three variables are: <br>\n",
    " <b>Entire Home : 52 <br>\n",
    "    Accomodates : 14 <br>\n",
    "    Bedrooms : 32 </b>"
   ]
  },
  {
   "cell_type": "markdown",
   "metadata": {},
   "source": [
    "The <i>new</i> average prediction error that we see for model 2 is <b>$37.74 / night</b>"
   ]
  },
  {
   "cell_type": "markdown",
   "metadata": {},
   "source": [
    "#### Question 3:\n",
    "Model 3. Suppose now you wish to build a model that predicts Airbnb listing price using only three variables, where one of the variables is the number of beds.\n",
    "1. List the names and coefficients of the two other variables selected by the optimization model.\n",
    "2. Which variable was in Model 2 but is no longer in Model 3? Briefly explain in 1-2 sentences why this variable might have been dropped.\n",
    "3. What is the new prediction error, in $/night, of Model 3?"
   ]
  },
  {
   "cell_type": "code",
   "execution_count": 24,
   "metadata": {},
   "outputs": [
    {
     "name": "stdout",
     "output_type": "stream",
     "text": [
      "Gurobi Optimizer version 11.0.0 build v11.0.0rc2 (mac64[rosetta2] - Darwin 23.0.0 23A344)\n",
      "\n",
      "CPU model: Apple M1\n",
      "Thread count: 8 physical cores, 8 logical processors, using up to 8 threads\n",
      "\n",
      "Optimize a model with 2 rows, 1724 columns and 13 nonzeros\n",
      "Model fingerprint: 0x2868f860\n",
      "Model has 3400 quadratic constraints\n",
      "Variable types: 1712 continuous, 12 integer (12 binary)\n",
      "Coefficient statistics:\n",
      "  Matrix range     [1e+00, 1e+00]\n",
      "  QMatrix range    [5e-01, 5e+02]\n",
      "  QLMatrix range   [1e+00, 1e+00]\n",
      "  Objective range  [6e-04, 6e-04]\n",
      "  Bounds range     [1e+00, 1e+00]\n",
      "  RHS range        [1e+00, 3e+00]\n",
      "  QRHS range       [1e+01, 2e+03]\n",
      "Presolve added 823 rows and 409 columns\n",
      "Presolve time: 0.05s\n",
      "Presolved: 3419 rows, 2166 columns, 32952 nonzeros\n",
      "Presolved model has 22 SOS constraint(s)\n",
      "Variable types: 2144 continuous, 22 integer (22 binary)\n",
      "Found heuristic solution: objective 60.5111765\n",
      "\n",
      "Root relaxation: objective 3.642625e+01, 2480 iterations, 0.16 seconds (0.42 work units)\n",
      "\n",
      "    Nodes    |    Current Node    |     Objective Bounds      |     Work\n",
      " Expl Unexpl |  Obj  Depth IntInf | Incumbent    BestBd   Gap | It/Node Time\n",
      "\n",
      "     0     0   36.42625    0    9   60.51118   36.42625  39.8%     -    0s\n",
      "     0     0   36.42625    0    8   60.51118   36.42625  39.8%     -    0s\n",
      "     0     0   36.42625    0    8   60.51118   36.42625  39.8%     -    0s\n",
      "H    0     0                      48.6558384   36.42625  25.1%     -    0s\n",
      "     0     2   36.42625    0    8   48.65584   36.42625  25.1%     -    0s\n",
      "*    3     6               2      44.5017647   36.42625  18.1%   208    0s\n",
      "*    8     8               3      41.7241765   37.23770  10.8%   213    0s\n",
      "*   13    10               4      40.2996078   38.00215  5.70%   249    0s\n",
      "*   16    10               4      40.0730147   38.65474  3.54%   236    0s\n",
      "\n",
      "Explored 28 nodes (7036 simplex iterations) in 0.62 seconds (1.52 work units)\n",
      "Thread count was 8 (of 8 available processors)\n",
      "\n",
      "Solution count 6: 40.073 40.2996 41.7242 ... 60.5112\n",
      "\n",
      "Optimal solution found (tolerance 1.00e-04)\n",
      "Best objective 4.007301470588e+01, best bound 4.007301470588e+01, gap 0.0000%\n"
     ]
    }
   ],
   "source": [
    "model3 = Model()\n",
    "\n",
    "b_3 = model3.addVars(total_features, vtype = GRB.CONTINUOUS)\n",
    "z = model3.addVars(total_obs, vtype = GRB.CONTINUOUS)\n",
    "f = model3.addVars(total_features, vtype = GRB.BINARY)\n",
    "\n",
    "# Objective function:\n",
    "model3.setObjective((1/total_obs)*sum(z[i] for i in range(total_obs)), GRB.MINIMIZE)\n",
    "\n",
    "# Cosntraints:\n",
    "for i in range(total_obs):\n",
    "    model3.addConstr(z[i] >= y_train_not_coded.iloc[i] - sum(X_train_not_coded.iloc[i, j] * b_3[j] * f[j] for j in range(total_features)))\n",
    "    model3.addConstr(z[i] >= sum(X_train_not_coded.iloc[i, j] * b_3[j] * f[j] for j in range(total_features)) - y_train_not_coded.iloc[i])\n",
    "\n",
    "model3.addConstr(sum(f[j] for j in range (total_features)) <= 3)\n",
    "model3.addConstr(f[6] >= 1)\n",
    "\n",
    "model3.update()\n",
    "model3.optimize()"
   ]
  },
  {
   "cell_type": "code",
   "execution_count": 29,
   "metadata": {},
   "outputs": [
    {
     "name": "stdout",
     "output_type": "stream",
     "text": [
      "[0.0, 0.0, 67.875, 0.0, 0.0, 47.37499999999999, 12.125000000000002, 0.0, 0.0, 0.0, 0.0, 0.0]\n",
      "3 variables in the model:\n",
      "Entire home   67.88\n",
      "bedrooms   47.37\n",
      "beds   12.13\n",
      "\n",
      "Average Prediction Error:  38.6\n"
     ]
    }
   ],
   "source": [
    "coeffs = [b_3[j].x for j in range(total_features)]\n",
    "print(coeffs)\n",
    "\n",
    "nonzero_coeffs = [(j, np.round(b_3[j].x,2)) for j in range(total_features) if b_3[j].x > 0]\n",
    "\n",
    "# printing as table\n",
    "print(\"3 variables in the model:\")\n",
    "for k,v in nonzero_coeffs:\n",
    "    print(X_train_not_coded.columns[k], \" \", v)\n",
    "\n",
    "y_pred = X_test_not_coded.dot(coeffs)\n",
    "\n",
    "pred_error = np.round(abs(y_pred - y_test_not_coded).mean(), 2)\n",
    "print(\"\\nAverage Prediction Error: \", pred_error)"
   ]
  },
  {
   "cell_type": "markdown",
   "metadata": {},
   "source": [
    "The coefficient of the variable <i>beds</i> is <b>12.13</b>\n",
    "\n",
    "The names and coefficients of the two other variables are: <br>\n",
    " <b>Entire Home : 67.88 <br>\n",
    "    Bedrooms : 47.37 </b>   "
   ]
  },
  {
   "cell_type": "markdown",
   "metadata": {},
   "source": [
    "The variable present in model 2 but absent from model 3 is <i>accomodates</i>. In model 2, the model was deciding the three variables based on the least absolute deviations. In model 3, the model dropped the one with the highest absolute deviation among the 3, and replaced it with the variable <i>beds </i>, which we fixed. This is why model 3 dropped <i>accomodates</i>."
   ]
  },
  {
   "cell_type": "markdown",
   "metadata": {},
   "source": [
    "The <i>new</i> average prediction error that we see for model 3 is <b>$38.6 / night</b>"
   ]
  }
 ],
 "metadata": {
  "kernelspec": {
   "display_name": "Python 3",
   "language": "python",
   "name": "python3"
  },
  "language_info": {
   "codemirror_mode": {
    "name": "ipython",
    "version": 3
   },
   "file_extension": ".py",
   "mimetype": "text/x-python",
   "name": "python",
   "nbconvert_exporter": "python",
   "pygments_lexer": "ipython3",
   "version": "3.8.5"
  }
 },
 "nbformat": 4,
 "nbformat_minor": 2
}
