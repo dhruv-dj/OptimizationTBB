{
 "cells": [
  {
   "cell_type": "code",
   "execution_count": 2,
   "id": "11e55d11-9f80-4b3c-b3d0-5c1fb9652640",
   "metadata": {
    "tags": []
   },
   "outputs": [],
   "source": [
    "##### Reading Data"
   ]
  },
  {
   "cell_type": "code",
   "execution_count": 3,
   "id": "4322e398-9e6b-4554-9b65-2169a696c463",
   "metadata": {
    "tags": []
   },
   "outputs": [
    {
     "data": {
      "text/html": [
       "<div>\n",
       "<style scoped>\n",
       "    .dataframe tbody tr th:only-of-type {\n",
       "        vertical-align: middle;\n",
       "    }\n",
       "\n",
       "    .dataframe tbody tr th {\n",
       "        vertical-align: top;\n",
       "    }\n",
       "\n",
       "    .dataframe thead th {\n",
       "        text-align: right;\n",
       "    }\n",
       "</style>\n",
       "<table border=\"1\" class=\"dataframe\">\n",
       "  <thead>\n",
       "    <tr style=\"text-align: right;\">\n",
       "      <th></th>\n",
       "      <th>MMM</th>\n",
       "      <th>ABT</th>\n",
       "      <th>ABBV</th>\n",
       "      <th>ABMD</th>\n",
       "      <th>ACN</th>\n",
       "      <th>ATVI</th>\n",
       "      <th>ADBE</th>\n",
       "      <th>AMD</th>\n",
       "      <th>AAP</th>\n",
       "      <th>AES</th>\n",
       "      <th>...</th>\n",
       "      <th>PWR</th>\n",
       "      <th>QCOM</th>\n",
       "      <th>DGX</th>\n",
       "      <th>RL</th>\n",
       "      <th>RJF</th>\n",
       "      <th>RTN</th>\n",
       "      <th>O</th>\n",
       "      <th>REG</th>\n",
       "      <th>SCHP</th>\n",
       "      <th>BND</th>\n",
       "    </tr>\n",
       "  </thead>\n",
       "  <tbody>\n",
       "    <tr>\n",
       "      <th>0</th>\n",
       "      <td>138.0</td>\n",
       "      <td>38.2</td>\n",
       "      <td>52.0</td>\n",
       "      <td>26.9</td>\n",
       "      <td>81.1</td>\n",
       "      <td>18.1</td>\n",
       "      <td>59.3</td>\n",
       "      <td>3.95</td>\n",
       "      <td>110.0</td>\n",
       "      <td>14.3</td>\n",
       "      <td>...</td>\n",
       "      <td>31.3</td>\n",
       "      <td>73.3</td>\n",
       "      <td>52.8</td>\n",
       "      <td>175.0</td>\n",
       "      <td>51.5</td>\n",
       "      <td>88.8</td>\n",
       "      <td>37.3</td>\n",
       "      <td>46.0</td>\n",
       "      <td>52.7</td>\n",
       "      <td>80.1</td>\n",
       "    </tr>\n",
       "    <tr>\n",
       "      <th>1</th>\n",
       "      <td>128.0</td>\n",
       "      <td>36.7</td>\n",
       "      <td>49.2</td>\n",
       "      <td>27.5</td>\n",
       "      <td>79.9</td>\n",
       "      <td>17.1</td>\n",
       "      <td>59.2</td>\n",
       "      <td>3.43</td>\n",
       "      <td>115.0</td>\n",
       "      <td>14.1</td>\n",
       "      <td>...</td>\n",
       "      <td>31.2</td>\n",
       "      <td>74.2</td>\n",
       "      <td>52.5</td>\n",
       "      <td>157.0</td>\n",
       "      <td>50.9</td>\n",
       "      <td>95.1</td>\n",
       "      <td>40.8</td>\n",
       "      <td>48.1</td>\n",
       "      <td>54.0</td>\n",
       "      <td>81.3</td>\n",
       "    </tr>\n",
       "    <tr>\n",
       "      <th>2</th>\n",
       "      <td>132.0</td>\n",
       "      <td>39.3</td>\n",
       "      <td>50.1</td>\n",
       "      <td>27.7</td>\n",
       "      <td>82.5</td>\n",
       "      <td>19.5</td>\n",
       "      <td>67.9</td>\n",
       "      <td>3.67</td>\n",
       "      <td>126.0</td>\n",
       "      <td>13.9</td>\n",
       "      <td>...</td>\n",
       "      <td>35.4</td>\n",
       "      <td>73.6</td>\n",
       "      <td>52.4</td>\n",
       "      <td>160.0</td>\n",
       "      <td>52.1</td>\n",
       "      <td>98.2</td>\n",
       "      <td>44.0</td>\n",
       "      <td>50.6</td>\n",
       "      <td>54.5</td>\n",
       "      <td>81.5</td>\n",
       "    </tr>\n",
       "    <tr>\n",
       "      <th>3</th>\n",
       "      <td>136.0</td>\n",
       "      <td>38.5</td>\n",
       "      <td>51.4</td>\n",
       "      <td>26.0</td>\n",
       "      <td>79.7</td>\n",
       "      <td>20.4</td>\n",
       "      <td>65.7</td>\n",
       "      <td>4.01</td>\n",
       "      <td>127.0</td>\n",
       "      <td>14.3</td>\n",
       "      <td>...</td>\n",
       "      <td>36.9</td>\n",
       "      <td>78.9</td>\n",
       "      <td>57.9</td>\n",
       "      <td>161.0</td>\n",
       "      <td>55.9</td>\n",
       "      <td>98.8</td>\n",
       "      <td>40.9</td>\n",
       "      <td>51.1</td>\n",
       "      <td>54.0</td>\n",
       "      <td>81.2</td>\n",
       "    </tr>\n",
       "    <tr>\n",
       "      <th>4</th>\n",
       "      <td>138.0</td>\n",
       "      <td>38.5</td>\n",
       "      <td>51.4</td>\n",
       "      <td>24.0</td>\n",
       "      <td>79.7</td>\n",
       "      <td>19.7</td>\n",
       "      <td>60.9</td>\n",
       "      <td>4.03</td>\n",
       "      <td>120.0</td>\n",
       "      <td>14.3</td>\n",
       "      <td>...</td>\n",
       "      <td>34.7</td>\n",
       "      <td>78.5</td>\n",
       "      <td>55.7</td>\n",
       "      <td>152.0</td>\n",
       "      <td>49.3</td>\n",
       "      <td>95.9</td>\n",
       "      <td>43.4</td>\n",
       "      <td>52.5</td>\n",
       "      <td>54.5</td>\n",
       "      <td>81.5</td>\n",
       "    </tr>\n",
       "  </tbody>\n",
       "</table>\n",
       "<p>5 rows × 390 columns</p>\n",
       "</div>"
      ],
      "text/plain": [
       "     MMM   ABT  ABBV  ABMD   ACN  ATVI  ADBE   AMD    AAP   AES  ...   PWR  \\\n",
       "0  138.0  38.2  52.0  26.9  81.1  18.1  59.3  3.95  110.0  14.3  ...  31.3   \n",
       "1  128.0  36.7  49.2  27.5  79.9  17.1  59.2  3.43  115.0  14.1  ...  31.2   \n",
       "2  132.0  39.3  50.1  27.7  82.5  19.5  67.9  3.67  126.0  13.9  ...  35.4   \n",
       "3  136.0  38.5  51.4  26.0  79.7  20.4  65.7  4.01  127.0  14.3  ...  36.9   \n",
       "4  138.0  38.5  51.4  24.0  79.7  19.7  60.9  4.03  120.0  14.3  ...  34.7   \n",
       "\n",
       "   QCOM   DGX     RL   RJF   RTN     O   REG  SCHP   BND  \n",
       "0  73.3  52.8  175.0  51.5  88.8  37.3  46.0  52.7  80.1  \n",
       "1  74.2  52.5  157.0  50.9  95.1  40.8  48.1  54.0  81.3  \n",
       "2  73.6  52.4  160.0  52.1  98.2  44.0  50.6  54.5  81.5  \n",
       "3  78.9  57.9  161.0  55.9  98.8  40.9  51.1  54.0  81.2  \n",
       "4  78.5  55.7  152.0  49.3  95.9  43.4  52.5  54.5  81.5  \n",
       "\n",
       "[5 rows x 390 columns]"
      ]
     },
     "execution_count": 3,
     "metadata": {},
     "output_type": "execute_result"
    }
   ],
   "source": [
    "import pandas as pd\n",
    "import numpy as np\n",
    "from gurobipy import *\n",
    "\n",
    "df = pd.read_csv('Prices.csv')\n",
    "df.head()"
   ]
  },
  {
   "cell_type": "code",
   "execution_count": 4,
   "id": "957d1055-dbdf-4bbd-ad62-656a6fe97160",
   "metadata": {
    "tags": []
   },
   "outputs": [],
   "source": [
    "##### Pre processing"
   ]
  },
  {
   "cell_type": "code",
   "execution_count": 5,
   "id": "607bf065-1a73-42b4-9284-0d622ed2213d",
   "metadata": {
    "tags": []
   },
   "outputs": [
    {
     "name": "stdout",
     "output_type": "stream",
     "text": [
      "importing Jupyter notebook from Assignment_2_Preprocessing.ipynb\n"
     ]
    }
   ],
   "source": [
    "import import_ipynb\n",
    "import Assignment_2_Preprocessing as preprocessing"
   ]
  },
  {
   "cell_type": "code",
   "execution_count": 6,
   "id": "6cff9174-74aa-4873-b048-2c0dca4178f5",
   "metadata": {
    "tags": []
   },
   "outputs": [],
   "source": [
    "msft_index = df.columns.get_loc('MSFT')\n",
    "gs_index = df.columns.get_loc('GS')\n",
    "pg_index = df.columns.get_loc('PG')\n",
    "schp_index = df.columns.get_loc('SCHP')\n",
    "\n",
    "C = preprocessing.C\n",
    "\n",
    "r = preprocessing.avg_return"
   ]
  },
  {
   "cell_type": "code",
   "execution_count": null,
   "id": "176cd02b-2906-4520-8761-6d003b272894",
   "metadata": {
    "tags": []
   },
   "outputs": [],
   "source": []
  },
  {
   "cell_type": "code",
   "execution_count": 7,
   "id": "045d1e82-6272-4377-9ca0-974f1d93d813",
   "metadata": {
    "tags": []
   },
   "outputs": [
    {
     "name": "stdout",
     "output_type": "stream",
     "text": [
      "Set parameter Username\n",
      "Academic license - for non-commercial use only - expires 2025-01-10\n",
      "Gurobi Optimizer version 11.0.0 build v11.0.0rc2 (win64 - Windows 11.0 (22621.2))\n",
      "\n",
      "CPU model: AMD Ryzen 7 5800H with Radeon Graphics, instruction set [SSE2|AVX|AVX2]\n",
      "Thread count: 8 physical cores, 16 logical processors, using up to 16 threads\n",
      "\n",
      "Optimize a model with 6 rows, 4 columns and 12 nonzeros\n",
      "Model fingerprint: 0x0125208f\n",
      "Model has 10 quadratic objective terms\n",
      "Coefficient statistics:\n",
      "  Matrix range     [2e-04, 1e+00]\n",
      "  Objective range  [0e+00, 0e+00]\n",
      "  QObjective range [5e-05, 7e-03]\n",
      "  Bounds range     [0e+00, 0e+00]\n",
      "  RHS range        [5e-03, 1e+00]\n",
      "Presolve removed 4 rows and 0 columns\n",
      "Presolve time: 0.02s\n",
      "Presolved: 2 rows, 4 columns, 8 nonzeros\n",
      "Presolved model has 10 quadratic objective terms\n",
      "Ordering time: 0.00s\n",
      "\n",
      "Barrier statistics:\n",
      " Free vars  : 3\n",
      " AA' NZ     : 1.000e+01\n",
      " Factor NZ  : 1.500e+01\n",
      " Factor Ops : 5.500e+01 (less than 1 second per iteration)\n",
      " Threads    : 1\n",
      "\n",
      "                  Objective                Residual\n",
      "Iter       Primal          Dual         Primal    Dual     Compl     Time\n",
      "   0   2.93770406e+03 -2.93770406e+03  4.00e+03 5.11e-07  1.00e+06     0s\n",
      "   1   1.52670591e+01 -3.13764123e+01  1.34e+02 1.71e-08  3.40e+04     0s\n",
      "   2   2.34842123e-03 -1.69659411e+01  1.34e-04 1.75e-14  2.17e+02     0s\n",
      "   3   2.34792126e-03 -1.90563990e-02  3.51e-08 5.55e-17  2.74e-01     0s\n",
      "   4   2.14500886e-03 -2.16783270e-03  6.03e-09 3.47e-18  5.52e-02     0s\n",
      "   5   2.04396706e-04 -4.06555018e-03  4.41e-10 1.39e-17  5.47e-02     0s\n",
      "   6   1.98547726e-04  1.20026231e-04  5.35e-12 0.00e+00  1.01e-03     0s\n",
      "   7   1.80195089e-04  1.76614023e-04  4.66e-15 1.39e-17  4.58e-05     0s\n",
      "   8   1.77508264e-04  1.77488122e-04  4.11e-15 1.39e-17  2.58e-07     0s\n",
      "   9   1.77493279e-04  1.77493259e-04  1.18e-14 1.39e-17  2.58e-10     0s\n",
      "\n",
      "Barrier solved model in 9 iterations and 0.03 seconds (0.00 work units)\n",
      "Optimal objective 1.77493279e-04\n",
      "\n"
     ]
    }
   ],
   "source": [
    "# Model 1\n",
    "model1 = Model()\n",
    "rho = 0.005\n",
    "\n",
    "index_arr = [msft_index, gs_index, pg_index, schp_index]\n",
    "\n",
    "C_1 = [[C[i][j] for i in index_arr] for j in index_arr]\n",
    "\n",
    "r_1 = [r[i] for i in index_arr]\n",
    "    \n",
    "w = model1.addVars(4)\n",
    "\n",
    "# Constraints:\n",
    "model1.addConstr(sum(w[i]*r_1[i] for i in range(4)) >= rho)\n",
    "model1.addConstr(sum(w[i] for i in range(4)) == 1)\n",
    "model1.addConstrs(w[i] >= 0 for i in range(4))\n",
    "\n",
    "# Objective function:\n",
    "model1.setObjective(sum(w[i]*w[j]*C_1[i][j] for i in range(4) for j in range(4)), GRB.MINIMIZE)\n",
    "\n",
    "model1.update()\n",
    "model1.optimize()"
   ]
  },
  {
   "cell_type": "code",
   "execution_count": 25,
   "id": "c2c51504-3737-4c12-983f-4ea235e7c76e",
   "metadata": {
    "tags": []
   },
   "outputs": [],
   "source": [
    "# Question 1a"
   ]
  },
  {
   "cell_type": "code",
   "execution_count": 24,
   "id": "d092aa6e-d363-4b21-8ab9-1152e2be35ab",
   "metadata": {
    "tags": []
   },
   "outputs": [
    {
     "name": "stdout",
     "output_type": "stream",
     "text": [
      "Optimal Risk Acieved:  0.00018\n",
      "Solver Time Taken: 0.029 s\n",
      "\n",
      "MSFT   23.71176 %\n",
      "GS   2.58596 %\n",
      "PG   0.0 %\n",
      "SCHP   73.70228 %\n"
     ]
    }
   ],
   "source": [
    "optimal_risk = model1.objVal\n",
    "\n",
    "solver_time = model1.Runtime\n",
    "\n",
    "optimal_weights = [(df.columns[index_arr[i]],w[i].x) for i in range(4)]\n",
    "\n",
    "print(\"Optimal Risk Acieved: \", np.round(optimal_risk, 5))\n",
    "print(\"Solver Time Taken:\", np.round(solver_time,5), \"s\\n\")\n",
    "\n",
    "for stock, weight in optimal_weights:\n",
    "    print(stock,\" \", np.round(weight*100,5),\"%\")"
   ]
  },
  {
   "cell_type": "code",
   "execution_count": 38,
   "id": "de5d2008-f526-4ff6-a1f3-9c0551bce39b",
   "metadata": {
    "tags": []
   },
   "outputs": [
    {
     "name": "stdout",
     "output_type": "stream",
     "text": [
      "Gurobi Optimizer version 11.0.0 build v11.0.0rc2 (win64 - Windows 11.0 (22621.2))\n",
      "\n",
      "CPU model: AMD Ryzen 7 5800H with Radeon Graphics, instruction set [SSE2|AVX|AVX2]\n",
      "Thread count: 8 physical cores, 16 logical processors, using up to 16 threads\n",
      "\n",
      "Optimize a model with 392 rows, 390 columns and 1170 nonzeros\n",
      "Model fingerprint: 0x9031ff4d\n",
      "Model has 76245 quadratic objective terms\n",
      "Coefficient statistics:\n",
      "  Matrix range     [1e-06, 1e+00]\n",
      "  Objective range  [0e+00, 0e+00]\n",
      "  QObjective range [2e-07, 8e-02]\n",
      "  Bounds range     [0e+00, 0e+00]\n",
      "  RHS range        [5e-03, 1e+00]\n",
      "Presolve removed 390 rows and 0 columns\n",
      "Presolve time: 0.04s\n",
      "Presolved: 2 rows, 390 columns, 780 nonzeros\n",
      "Presolved model has 76245 quadratic objective terms\n",
      "Ordering time: 0.00s\n",
      "\n",
      "Barrier statistics:\n",
      " Free vars  : 59\n",
      " AA' NZ     : 1.830e+03\n",
      " Factor NZ  : 1.891e+03\n",
      " Factor Ops : 7.753e+04 (less than 1 second per iteration)\n",
      " Threads    : 8\n",
      "\n",
      "                  Objective                Residual\n",
      "Iter       Primal          Dual         Primal    Dual     Compl     Time\n",
      "   0   1.10520633e-17 -1.10520633e-17  3.90e+05 1.86e-08  1.00e+06     0s\n",
      "   1   1.32403095e+02 -1.40151246e+02  1.14e+04 5.42e-10  2.92e+04     0s\n",
      "   2   1.53493902e+00 -9.57482645e+00  1.02e+02 4.86e-12  2.67e+02     0s\n",
      "   3   1.17587702e-03 -7.92081818e+00  1.02e-04 1.08e-15  2.59e+00     0s\n",
      "   4   1.17509605e-03 -1.01300882e-02  4.36e-08 5.55e-17  3.70e-03     0s\n",
      "   5   8.22186010e-04 -1.13464664e-03  4.77e-09 1.39e-17  6.41e-04     0s\n",
      "   6   3.78013352e-04 -5.97431608e-04  5.55e-15 2.78e-16  3.19e-04     0s\n",
      "   7   2.05319383e-04 -1.66218904e-04  3.05e-16 1.39e-16  1.22e-04     0s\n",
      "   8   9.53707757e-05 -4.26667932e-05  3.33e-15 9.71e-17  4.52e-05     0s\n",
      "   9   6.93295928e-05  3.06840100e-06  1.33e-15 4.16e-17  2.17e-05     0s\n",
      "  10   4.16952119e-05  2.32922123e-05  5.52e-16 2.43e-17  6.02e-06     0s\n",
      "  11   3.39225828e-05  2.74051911e-05  6.66e-16 2.78e-17  2.13e-06     0s\n",
      "  12   3.04655599e-05  2.85032903e-05  9.99e-15 2.08e-17  6.42e-07     0s\n",
      "  13   2.89580888e-05  2.87642150e-05  5.11e-15 2.08e-17  6.35e-08     0s\n",
      "  14   2.87917525e-05  2.87842956e-05  4.13e-14 1.91e-17  2.44e-09     0s\n",
      "\n",
      "Barrier solved model in 14 iterations and 0.14 seconds (0.01 work units)\n",
      "Optimal objective 2.87917525e-05\n",
      "\n"
     ]
    }
   ],
   "source": [
    "# Model 2\n",
    "model2 = Model()\n",
    "rho = 0.005\n",
    "    \n",
    "w = model2.addVars(390)\n",
    "\n",
    "# Constraints:\n",
    "model2.addConstr(sum(w[i]*r[i] for i in range(390)) >= rho)\n",
    "model2.addConstr(sum(w[i] for i in range(390)) == 1)\n",
    "model2.addConstrs(w[i] >= 0 for i in range(390))\n",
    "\n",
    "# Objective function:\n",
    "model2.setObjective(sum(w[i]*w[j]*C[i][j] for i in range(390) for j in range(390)), GRB.MINIMIZE)\n",
    "\n",
    "model2.update()\n",
    "model2.optimize()"
   ]
  },
  {
   "cell_type": "code",
   "execution_count": 39,
   "id": "f2f973af-e496-46ef-b59b-bbaa50fde6bd",
   "metadata": {
    "tags": []
   },
   "outputs": [
    {
     "data": {
      "text/plain": [
       "0.9999152765661681"
      ]
     },
     "execution_count": 39,
     "metadata": {},
     "output_type": "execute_result"
    }
   ],
   "source": [
    "val_arr = [(i,w[i].x) for i in range(390) if w[i].x >= 0.00001] # threshold of stocks...change RHS to improve/reduce sum value (~1)\n",
    "\n",
    "stocks_inds = [val_arr[i][0] for i in range (len(val_arr))]\n",
    "stocks_inds # stock indices\n",
    "\n",
    "returns = [0 + val_arr[i][1] for i in range (len(val_arr))]\n",
    "sum(returns)"
   ]
  },
  {
   "cell_type": "code",
   "execution_count": 33,
   "id": "070c97d6-5e93-4aa2-b4d8-61fb247d719b",
   "metadata": {
    "tags": []
   },
   "outputs": [],
   "source": [
    "# Question 1b"
   ]
  },
  {
   "cell_type": "code",
   "execution_count": 47,
   "id": "1331934d-cdb7-47bd-8237-065a2a991478",
   "metadata": {
    "tags": []
   },
   "outputs": [
    {
     "name": "stdout",
     "output_type": "stream",
     "text": [
      "Optimal Risk Acieved:  3e-05\n",
      "Solver Time Taken: 0.146 s\n",
      "\n",
      "ABBV   1.1364 %\n",
      "ABMD   0.66541 %\n",
      "ATVI   1.36743 %\n",
      "ANET   1.17532 %\n",
      "AIZ   2.22128 %\n",
      "ATO   2.90637 %\n",
      "BBY   0.26065 %\n",
      "CME   1.27911 %\n",
      "ED   0.04017 %\n",
      "DRI   0.66555 %\n",
      "RE   0.23315 %\n",
      "GWW   0.77415 %\n",
      "HAS   0.24506 %\n",
      "HCA   2.95684 %\n",
      "HUM   2.26682 %\n",
      "INFO   5.17086 %\n",
      "ICE   1.417 %\n",
      "KEYS   2.21688 %\n",
      "LHX   0.00746 %\n",
      "LLY   0.8515 %\n",
      "LMT   0.06075 %\n",
      "PSX   0.79815 %\n",
      "PNC   3.2313 %\n",
      "PWR   0.00104 %\n",
      "BND   68.04286 %\n"
     ]
    }
   ],
   "source": [
    "optimal_risk = model2.objVal\n",
    "\n",
    "solver_time = model2.Runtime\n",
    "\n",
    "print(\"Optimal Risk Acieved: \", np.round(optimal_risk, 5))\n",
    "print(\"Solver Time Taken:\", np.round(solver_time,5), \"s\\n\")\n",
    "\n",
    "val_arr = [(i,w[i].x) for i in range(390) if w[i].x > 0.00001]\n",
    "\n",
    "for k,v in val_arr:\n",
    "    print(df.columns[k], \" \", np.round(v*100,5),\"%\")"
   ]
  },
  {
   "cell_type": "code",
   "execution_count": 34,
   "id": "8e91482c-9f52-4637-be2d-a725dce6e5d9",
   "metadata": {
    "tags": []
   },
   "outputs": [
    {
     "name": "stdout",
     "output_type": "stream",
     "text": [
      "Gurobi Optimizer version 11.0.0 build v11.0.0rc2 (win64 - Windows 11.0 (22621.2))\n",
      "\n",
      "CPU model: AMD Ryzen 7 5800H with Radeon Graphics, instruction set [SSE2|AVX|AVX2]\n",
      "Thread count: 8 physical cores, 16 logical processors, using up to 16 threads\n",
      "\n",
      "Optimize a model with 392 rows, 1170 columns and 1170 nonzeros\n",
      "Model fingerprint: 0x57152875\n",
      "Model has 76245 quadratic objective terms\n",
      "Model has 391 quadratic constraints\n",
      "Variable types: 780 continuous, 390 integer (390 binary)\n",
      "Coefficient statistics:\n",
      "  Matrix range     [1e-06, 1e+00]\n",
      "  QMatrix range    [1e+00, 1e+00]\n",
      "  QLMatrix range   [1e+00, 1e+00]\n",
      "  Objective range  [0e+00, 0e+00]\n",
      "  QObjective range [2e-07, 8e-02]\n",
      "  Bounds range     [1e+00, 1e+00]\n",
      "  RHS range        [5e-03, 4e+00]\n",
      "  QRHS range       [1e+00, 1e+00]\n",
      "Presolve removed 390 rows and 0 columns\n",
      "Presolve time: 0.02s\n",
      "Presolved: 1173 rows, 2340 columns, 3900 nonzeros\n",
      "Presolved model has 780 SOS constraint(s)\n",
      "Presolved model has 76245 quadratic objective terms\n",
      "Variable types: 1560 continuous, 780 integer (780 binary)\n",
      "Found heuristic solution: objective 0.0018152\n",
      "\n",
      "Root relaxation: objective 2.878501e-05, 5605 iterations, 0.25 seconds (0.53 work units)\n",
      "\n",
      "    Nodes    |    Current Node    |     Objective Bounds      |     Work\n",
      " Expl Unexpl |  Obj  Depth IntInf | Incumbent    BestBd   Gap | It/Node Time\n",
      "\n",
      "H    0     0                       0.0011847    0.00003  97.6%     -    0s\n",
      "H    0     0                       0.0007648    0.00003  96.2%     -    0s\n",
      "H    0     0                       0.0001258    0.00003  77.1%     -    0s\n",
      "H    0     0                       0.0000723    0.00003  60.2%     -    0s\n",
      "H    0     0                       0.0000676    0.00003  57.4%     -    0s\n",
      "     0     0    0.00003    0   22    0.00007    0.00003  55.9%     -    0s\n",
      "     0     0    0.00003    0   20    0.00007    0.00003  55.9%     -    0s\n",
      "     0     0    0.00003    0   60    0.00007    0.00003  55.9%     -    0s\n",
      "     0     0    0.00003    0   61    0.00007    0.00003  55.0%     -    0s\n",
      "H    0     0                       0.0000675    0.00003  55.0%     -    1s\n",
      "     0     0    0.00003    0   61    0.00007    0.00003  54.2%     -    1s\n",
      "     0     2    0.00003    0   61    0.00007    0.00003  54.2%     -    1s\n",
      "   770    29     cutoff   32         0.00007    0.00003  48.7%   239    5s\n",
      "  2051    72    0.00006   38   26    0.00007    0.00004  47.3%   258   10s\n",
      "  3346    67    0.00006   41   38    0.00007    0.00004  46.3%   284   15s\n",
      "  4586    77    0.00007   47   34    0.00007    0.00004  44.9%   286   20s\n",
      "  5922    77     cutoff   34         0.00007    0.00004  44.8%   300   25s\n",
      "  7319    77     cutoff   59         0.00007    0.00004  43.7%   293   30s\n",
      "  8282    84    0.00005   34   45    0.00007    0.00004  41.4%   293   35s\n",
      "  9374   125    0.00005   42   43    0.00007    0.00004  41.1%   289   40s\n",
      " 17991  2566     cutoff   43         0.00007    0.00005  26.2%   183   45s\n",
      " 32244  2367     cutoff   52         0.00007    0.00006  9.10%   138   50s\n",
      "\n",
      "Cutting planes:\n",
      "  MIR: 1\n",
      "\n",
      "Explored 39168 nodes (5521255 simplex iterations) in 54.18 seconds (98.95 work units)\n",
      "Thread count was 16 (of 16 available processors)\n",
      "\n",
      "Solution count 7: 6.75347e-05 6.75857e-05 7.23026e-05 ... 0.00181516\n",
      "\n",
      "Optimal solution found (tolerance 1.00e-04)\n",
      "Best objective 6.753470760728e-05, best bound 6.753470760728e-05, gap 0.0000%\n"
     ]
    }
   ],
   "source": [
    "# Model 3\n",
    "model3 = Model()\n",
    "rho = 0.005\n",
    "    \n",
    "w = model3.addVars(390)\n",
    "b = model3.addVars(390, vtype = GRB.BINARY)\n",
    "z = model3.addVars(390)\n",
    "\n",
    "# Constraints:\n",
    "model3.addConstrs(z[i] == w[i]*b[i] for i in range(390))\n",
    "model3.addConstr(sum(b[i] for i in range(390)) <= 4)\n",
    "model3.addConstr(sum(z[i]*r[i] for i in range(390)) >= rho)\n",
    "model3.addConstr(sum(w[i]*b[i] for i in range(390)) == 1)\n",
    "model3.addConstrs(w[i] >= 0 for i in range(390))\n",
    "\n",
    "# Objective function:\n",
    "model3.setObjective(sum(z[i]*z[j]*C[i][j] for i in range(390) for j in range(390)), GRB.MINIMIZE)\n",
    "\n",
    "model3.update()\n",
    "model3.optimize()"
   ]
  },
  {
   "cell_type": "code",
   "execution_count": 35,
   "id": "751fea99-a72a-4a45-998e-d4b6ae011b64",
   "metadata": {
    "tags": []
   },
   "outputs": [],
   "source": [
    "# Question 1c"
   ]
  },
  {
   "cell_type": "code",
   "execution_count": 36,
   "id": "7947f6d5-b5bf-422e-9508-f6c3b6f4d8c7",
   "metadata": {
    "tags": []
   },
   "outputs": [
    {
     "name": "stdout",
     "output_type": "stream",
     "text": [
      "Optimal Risk Acieved:  7e-05\n",
      "Solver Time Taken: 54.18 s\n",
      "\n",
      "CME   12.64 %\n",
      "LLY   7.55 %\n",
      "NVDA   4.38 %\n",
      "BND   75.44 %\n"
     ]
    }
   ],
   "source": [
    "val_arr = [(i,w[i].x) for i in range(390) if w[i].x > 0]\n",
    "returns = [0 + val_arr[i][1] for i in range (len(val_arr))]\n",
    "sum(returns)\n",
    "\n",
    "optimal_risk = model3.objVal\n",
    "\n",
    "solver_time = model3.Runtime\n",
    "\n",
    "print(\"Optimal Risk Acieved: \", np.round(optimal_risk, 5))\n",
    "print(\"Solver Time Taken:\", np.round(solver_time,5), \"s\\n\")\n",
    "\n",
    "# printing as table\n",
    "for k,v in val_arr:\n",
    "    print(df.columns[k], \" \", np.round(v*100,2),\"%\")"
   ]
  },
  {
   "cell_type": "code",
   "execution_count": 37,
   "id": "0b70ee74-cef7-4796-b352-af532a005bb3",
   "metadata": {
    "tags": []
   },
   "outputs": [],
   "source": [
    "# Question 2a"
   ]
  },
  {
   "cell_type": "markdown",
   "id": "4217bd08-75eb-46a6-9ab7-a1a64a0a39e1",
   "metadata": {},
   "source": [
    "The optimal risk is **lower** in Model 2 as we are including all possible risk portfolio from combination across all assets. This will help optimizer choose a better portfolio from a wider range of options instead of just 4 random assets."
   ]
  },
  {
   "cell_type": "code",
   "execution_count": 48,
   "id": "483ae45d-8711-4c92-9e88-be3ea2994d09",
   "metadata": {
    "tags": []
   },
   "outputs": [],
   "source": [
    "# Question 2b"
   ]
  },
  {
   "cell_type": "markdown",
   "id": "e69d9624-2851-42c0-86d7-9caf1d24ab8c",
   "metadata": {},
   "source": [
    "The optimal risk is **slightly higher** in Model 3 compared to Model 2 because from all the possible combinations of assets, we are including a combination of just 4 assets into our risk portfolio. This will help optimizer choose from a large pool of combinations, but still won't be as exhaustive as in Model 2, due to the number restriction. Hence the optimal value observed is slightly higher."
   ]
  },
  {
   "cell_type": "code",
   "execution_count": 50,
   "id": "9b170783-86ad-4a55-b792-646791c6366f",
   "metadata": {
    "tags": []
   },
   "outputs": [],
   "source": [
    "# Question 3a"
   ]
  },
  {
   "cell_type": "code",
   "execution_count": 52,
   "id": "60ead1b0-c8c9-42eb-b0d6-a0ac0a789efd",
   "metadata": {
    "tags": []
   },
   "outputs": [
    {
     "name": "stdout",
     "output_type": "stream",
     "text": [
      "Set parameter TimeLimit to value 3\n",
      "Gurobi Optimizer version 11.0.0 build v11.0.0rc2 (win64 - Windows 11.0 (22621.2))\n",
      "\n",
      "CPU model: AMD Ryzen 7 5800H with Radeon Graphics, instruction set [SSE2|AVX|AVX2]\n",
      "Thread count: 8 physical cores, 16 logical processors, using up to 16 threads\n",
      "\n",
      "Optimize a model with 392 rows, 1170 columns and 1170 nonzeros\n",
      "Model fingerprint: 0x57152875\n",
      "Model has 76245 quadratic objective terms\n",
      "Model has 391 quadratic constraints\n",
      "Variable types: 780 continuous, 390 integer (390 binary)\n",
      "Coefficient statistics:\n",
      "  Matrix range     [1e-06, 1e+00]\n",
      "  QMatrix range    [1e+00, 1e+00]\n",
      "  QLMatrix range   [1e+00, 1e+00]\n",
      "  Objective range  [0e+00, 0e+00]\n",
      "  QObjective range [2e-07, 8e-02]\n",
      "  Bounds range     [1e+00, 1e+00]\n",
      "  RHS range        [5e-03, 4e+00]\n",
      "  QRHS range       [1e+00, 1e+00]\n",
      "Presolve removed 390 rows and 0 columns\n",
      "Presolve time: 0.05s\n",
      "Presolved: 1173 rows, 2340 columns, 3900 nonzeros\n",
      "Presolved model has 780 SOS constraint(s)\n",
      "Presolved model has 76245 quadratic objective terms\n",
      "Variable types: 1560 continuous, 780 integer (780 binary)\n",
      "Found heuristic solution: objective 0.0018152\n",
      "\n",
      "Root relaxation: objective 2.878501e-05, 5605 iterations, 0.56 seconds (0.53 work units)\n",
      "\n",
      "    Nodes    |    Current Node    |     Objective Bounds      |     Work\n",
      " Expl Unexpl |  Obj  Depth IntInf | Incumbent    BestBd   Gap | It/Node Time\n",
      "\n",
      "H    0     0                       0.0011847    0.00003  97.6%     -    1s\n",
      "H    0     0                       0.0007648    0.00003  96.2%     -    1s\n",
      "H    0     0                       0.0001258    0.00003  77.1%     -    1s\n",
      "H    0     0                       0.0000723    0.00003  60.2%     -    1s\n",
      "H    0     0                       0.0000676    0.00003  57.4%     -    1s\n",
      "     0     0    0.00003    0   22    0.00007    0.00003  55.9%     -    1s\n",
      "     0     0    0.00003    0   20    0.00007    0.00003  55.9%     -    1s\n",
      "     0     0    0.00003    0   60    0.00007    0.00003  55.9%     -    1s\n",
      "     0     0    0.00003    0   61    0.00007    0.00003  55.0%     -    1s\n",
      "H    0     0                       0.0000675    0.00003  55.0%     -    2s\n",
      "     0     0    0.00003    0   61    0.00007    0.00003  54.2%     -    2s\n",
      "     0     2    0.00003    0   61    0.00007    0.00003  54.2%     -    2s\n",
      "\n",
      "Cutting planes:\n",
      "  Implied bound: 25\n",
      "  MIR: 2\n",
      "\n",
      "Explored 60 nodes (11265 simplex iterations) in 3.01 seconds (1.46 work units)\n",
      "Thread count was 16 (of 16 available processors)\n",
      "\n",
      "Solution count 7: 6.75347e-05 6.75857e-05 7.23026e-05 ... 0.00181516\n",
      "\n",
      "Time limit reached\n",
      "Best objective 6.753470760728e-05, best bound 3.264747254682e-05, gap 51.6582%\n"
     ]
    }
   ],
   "source": [
    "# Model 3\n",
    "model3 = Model()\n",
    "rho = 0.005\n",
    "    \n",
    "w = model3.addVars(390)\n",
    "b = model3.addVars(390, vtype = GRB.BINARY)\n",
    "z = model3.addVars(390)\n",
    "\n",
    "# Constraints:\n",
    "model3.addConstrs(z[i] == w[i]*b[i] for i in range(390))\n",
    "model3.addConstr(sum(b[i] for i in range(390)) <= 4)\n",
    "model3.addConstr(sum(z[i]*r[i] for i in range(390)) >= rho)\n",
    "model3.addConstr(sum(w[i]*b[i] for i in range(390)) == 1)\n",
    "model3.addConstrs(w[i] >= 0 for i in range(390))\n",
    "\n",
    "# Objective function:\n",
    "model3.setObjective(sum(z[i]*z[j]*C[i][j] for i in range(390) for j in range(390)), GRB.MINIMIZE)\n",
    "\n",
    "# Setting time limit\n",
    "model3.Params.TimeLimit = 3.0\n",
    "\n",
    "model3.update()\n",
    "model3.optimize()"
   ]
  },
  {
   "cell_type": "code",
   "execution_count": 54,
   "id": "33fdd80e-851c-4075-a365-83c9d02ac451",
   "metadata": {
    "tags": []
   },
   "outputs": [
    {
     "name": "stdout",
     "output_type": "stream",
     "text": [
      "Optimal Risk Acieved:  7e-05\n",
      "Solver Time Taken: 3.022 s\n",
      "\n"
     ]
    }
   ],
   "source": [
    "optimal_risk = model3.objVal\n",
    "\n",
    "solver_time = model3.Runtime\n",
    "\n",
    "print(\"Optimal Risk Acieved: \", np.round(optimal_risk, 5))\n",
    "print(\"Solver Time Taken:\", np.round(solver_time,5), \"s\\n\")"
   ]
  },
  {
   "cell_type": "markdown",
   "id": "74fa726f-9b5a-4fa6-bdaf-db5b1e2bf9ad",
   "metadata": {},
   "source": [
    "From the above results, we can see that the optimal value of objective function **stays the same**."
   ]
  },
  {
   "cell_type": "code",
   "execution_count": 55,
   "id": "ef1def73-9d45-4d8c-8f1d-062d25c0afd5",
   "metadata": {
    "tags": []
   },
   "outputs": [],
   "source": [
    "# Question 3b"
   ]
  },
  {
   "cell_type": "code",
   "execution_count": 57,
   "id": "cd432634-bb15-4044-ab3d-0fe8957c27ae",
   "metadata": {
    "tags": []
   },
   "outputs": [
    {
     "name": "stdout",
     "output_type": "stream",
     "text": [
      "Set parameter MIPGap to value 0.1\n",
      "Gurobi Optimizer version 11.0.0 build v11.0.0rc2 (win64 - Windows 11.0 (22621.2))\n",
      "\n",
      "CPU model: AMD Ryzen 7 5800H with Radeon Graphics, instruction set [SSE2|AVX|AVX2]\n",
      "Thread count: 8 physical cores, 16 logical processors, using up to 16 threads\n",
      "\n",
      "Optimize a model with 392 rows, 1170 columns and 1170 nonzeros\n",
      "Model fingerprint: 0x57152875\n",
      "Model has 76245 quadratic objective terms\n",
      "Model has 391 quadratic constraints\n",
      "Variable types: 780 continuous, 390 integer (390 binary)\n",
      "Coefficient statistics:\n",
      "  Matrix range     [1e-06, 1e+00]\n",
      "  QMatrix range    [1e+00, 1e+00]\n",
      "  QLMatrix range   [1e+00, 1e+00]\n",
      "  Objective range  [0e+00, 0e+00]\n",
      "  QObjective range [2e-07, 8e-02]\n",
      "  Bounds range     [1e+00, 1e+00]\n",
      "  RHS range        [5e-03, 4e+00]\n",
      "  QRHS range       [1e+00, 1e+00]\n",
      "Presolve removed 390 rows and 0 columns\n",
      "Presolve time: 0.02s\n",
      "Presolved: 1173 rows, 2340 columns, 3900 nonzeros\n",
      "Presolved model has 780 SOS constraint(s)\n",
      "Presolved model has 76245 quadratic objective terms\n",
      "Variable types: 1560 continuous, 780 integer (780 binary)\n",
      "Found heuristic solution: objective 0.0018152\n",
      "\n",
      "Root relaxation: objective 2.878501e-05, 5605 iterations, 0.24 seconds (0.53 work units)\n",
      "\n",
      "    Nodes    |    Current Node    |     Objective Bounds      |     Work\n",
      " Expl Unexpl |  Obj  Depth IntInf | Incumbent    BestBd   Gap | It/Node Time\n",
      "\n",
      "H    0     0                       0.0011847    0.00003  97.6%     -    0s\n",
      "H    0     0                       0.0007648    0.00003  96.2%     -    0s\n",
      "H    0     0                       0.0001258    0.00003  77.1%     -    0s\n",
      "H    0     0                       0.0000723    0.00003  60.2%     -    0s\n",
      "H    0     0                       0.0000676    0.00003  57.4%     -    0s\n",
      "     0     0    0.00003    0   22    0.00007    0.00003  55.9%     -    0s\n",
      "     0     0    0.00003    0   20    0.00007    0.00003  55.9%     -    0s\n",
      "     0     0    0.00003    0   60    0.00007    0.00003  55.9%     -    0s\n",
      "     0     0    0.00003    0   61    0.00007    0.00003  55.0%     -    0s\n",
      "H    0     0                       0.0000675    0.00003  55.0%     -    1s\n",
      "     0     0    0.00003    0   61    0.00007    0.00003  54.8%     -    1s\n",
      "     0     2    0.00003    0   61    0.00007    0.00003  54.8%     -    1s\n",
      "   629    32     cutoff   39         0.00007    0.00003  50.5%   284    5s\n",
      "  1801    29    0.00006   37   31    0.00007    0.00003  48.6%   273   10s\n",
      "  3178   116     cutoff   19         0.00007    0.00004  46.6%   251   15s\n",
      "  4561   120    0.00006   47   29    0.00007    0.00004  44.7%   251   20s\n",
      "  5959   120    0.00005   37   54    0.00007    0.00004  40.7%   261   25s\n",
      "  7453   115     cutoff   37         0.00007    0.00004  40.4%   267   30s\n",
      "  8480   120     cutoff   63         0.00007    0.00004  40.3%   280   36s\n",
      "  9401   122    0.00004   28   58    0.00007    0.00004  39.8%   286   43s\n",
      " 10239   145    0.00004   28   64    0.00007    0.00004  37.9%   283   46s\n",
      " 11550   130     cutoff   33         0.00007    0.00004  37.8%   285   50s\n",
      " 13035   162    0.00005   34   49    0.00007    0.00004  37.6%   284   56s\n",
      " 14488   163    0.00005   24   51    0.00007    0.00004  35.2%   288   62s\n",
      " 15667   159    0.00005   59   44    0.00007    0.00004  35.2%   289   67s\n",
      " 16303   155    0.00005   32   54    0.00007    0.00004  35.1%   289   70s\n",
      " 17452   159    0.00005   54   44    0.00007    0.00004  34.9%   294   75s\n",
      " 18931   159    0.00005   25   59    0.00007    0.00004  34.5%   294   80s\n",
      " 20856   329    0.00005   29   22    0.00007    0.00004  34.5%   290   85s\n",
      " 32630  3469     cutoff   55         0.00007    0.00005  21.5%   208   90s\n",
      "\n",
      "Cutting planes:\n",
      "  MIR: 1\n",
      "\n",
      "Explored 42567 nodes (7643595 simplex iterations) in 94.35 seconds (174.54 work units)\n",
      "Thread count was 16 (of 16 available processors)\n",
      "\n",
      "Solution count 7: 6.75347e-05 6.75857e-05 7.23026e-05 ... 0.00181516\n",
      "\n",
      "Optimal solution found (tolerance 1.00e-01)\n",
      "Best objective 6.753470760728e-05, best bound 6.108253618888e-05, gap 9.5539%\n"
     ]
    }
   ],
   "source": [
    "# Model 3\n",
    "model3 = Model()\n",
    "rho = 0.005\n",
    "    \n",
    "w = model3.addVars(390)\n",
    "b = model3.addVars(390, vtype = GRB.BINARY)\n",
    "z = model3.addVars(390)\n",
    "\n",
    "# Constraints:\n",
    "model3.addConstrs(z[i] == w[i]*b[i] for i in range(390))\n",
    "model3.addConstr(sum(b[i] for i in range(390)) <= 4)\n",
    "model3.addConstr(sum(z[i]*r[i] for i in range(390)) >= rho)\n",
    "model3.addConstr(sum(w[i]*b[i] for i in range(390)) == 1)\n",
    "model3.addConstrs(w[i] >= 0 for i in range(390))\n",
    "\n",
    "# Objective function:\n",
    "model3.setObjective(sum(z[i]*z[j]*C[i][j] for i in range(390) for j in range(390)), GRB.MINIMIZE)\n",
    "\n",
    "# Setting time limit\n",
    "model3.Params.MIPGap = 0.1\n",
    "\n",
    "model3.update()\n",
    "model3.optimize()"
   ]
  },
  {
   "cell_type": "code",
   "execution_count": 58,
   "id": "07b0556d-f16f-461b-a4c0-e855265f1e21",
   "metadata": {
    "tags": []
   },
   "outputs": [
    {
     "name": "stdout",
     "output_type": "stream",
     "text": [
      "Optimal Risk Acieved:  7e-05\n",
      "Solver Time Taken: 94.353 s\n",
      "\n"
     ]
    }
   ],
   "source": [
    "optimal_risk = model3.objVal\n",
    "\n",
    "solver_time = model3.Runtime\n",
    "\n",
    "print(\"Optimal Risk Acieved: \", np.round(optimal_risk, 5))\n",
    "print(\"Solver Time Taken:\", np.round(solver_time,5), \"s\\n\")"
   ]
  },
  {
   "cell_type": "markdown",
   "id": "d6152532-6ceb-4192-a647-0e01920a7792",
   "metadata": {},
   "source": [
    "From the above results, we can see that the optimal value of time taken by the model **goes up**."
   ]
  },
  {
   "cell_type": "code",
   "execution_count": null,
   "id": "2bc4f8ff-a5d3-4de7-b96c-d304c9e14cd6",
   "metadata": {},
   "outputs": [],
   "source": []
  }
 ],
 "metadata": {
  "kernelspec": {
   "display_name": "Python 3 (ipykernel)",
   "language": "python",
   "name": "python3"
  },
  "language_info": {
   "codemirror_mode": {
    "name": "ipython",
    "version": 3
   },
   "file_extension": ".py",
   "mimetype": "text/x-python",
   "name": "python",
   "nbconvert_exporter": "python",
   "pygments_lexer": "ipython3",
   "version": "3.11.4"
  }
 },
 "nbformat": 4,
 "nbformat_minor": 5
}
