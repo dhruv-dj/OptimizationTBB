{
 "cells": [
  {
   "cell_type": "markdown",
   "metadata": {
    "tags": []
   },
   "source": [
    "# Assignment 2 - Portfolio Optimization"
   ]
  },
  {
   "cell_type": "markdown",
   "metadata": {},
   "source": [
    "### <i> Group Members: Sayantan Raut, Dhruv Jain, Shubhankar Rekhade </i> "
   ]
  },
  {
   "cell_type": "code",
   "execution_count": 1,
   "metadata": {
    "tags": []
   },
   "outputs": [
    {
     "data": {
      "text/html": [
       "<div>\n",
       "<style scoped>\n",
       "    .dataframe tbody tr th:only-of-type {\n",
       "        vertical-align: middle;\n",
       "    }\n",
       "\n",
       "    .dataframe tbody tr th {\n",
       "        vertical-align: top;\n",
       "    }\n",
       "\n",
       "    .dataframe thead th {\n",
       "        text-align: right;\n",
       "    }\n",
       "</style>\n",
       "<table border=\"1\" class=\"dataframe\">\n",
       "  <thead>\n",
       "    <tr style=\"text-align: right;\">\n",
       "      <th></th>\n",
       "      <th>MMM</th>\n",
       "      <th>ABT</th>\n",
       "      <th>ABBV</th>\n",
       "      <th>ABMD</th>\n",
       "      <th>ACN</th>\n",
       "      <th>ATVI</th>\n",
       "      <th>ADBE</th>\n",
       "      <th>AMD</th>\n",
       "      <th>AAP</th>\n",
       "      <th>AES</th>\n",
       "      <th>...</th>\n",
       "      <th>PWR</th>\n",
       "      <th>QCOM</th>\n",
       "      <th>DGX</th>\n",
       "      <th>RL</th>\n",
       "      <th>RJF</th>\n",
       "      <th>RTN</th>\n",
       "      <th>O</th>\n",
       "      <th>REG</th>\n",
       "      <th>SCHP</th>\n",
       "      <th>BND</th>\n",
       "    </tr>\n",
       "  </thead>\n",
       "  <tbody>\n",
       "    <tr>\n",
       "      <th>0</th>\n",
       "      <td>138.0</td>\n",
       "      <td>38.2</td>\n",
       "      <td>52.0</td>\n",
       "      <td>26.9</td>\n",
       "      <td>81.1</td>\n",
       "      <td>18.1</td>\n",
       "      <td>59.3</td>\n",
       "      <td>3.95</td>\n",
       "      <td>110.0</td>\n",
       "      <td>14.3</td>\n",
       "      <td>...</td>\n",
       "      <td>31.3</td>\n",
       "      <td>73.3</td>\n",
       "      <td>52.8</td>\n",
       "      <td>175.0</td>\n",
       "      <td>51.5</td>\n",
       "      <td>88.8</td>\n",
       "      <td>37.3</td>\n",
       "      <td>46.0</td>\n",
       "      <td>52.7</td>\n",
       "      <td>80.1</td>\n",
       "    </tr>\n",
       "    <tr>\n",
       "      <th>1</th>\n",
       "      <td>128.0</td>\n",
       "      <td>36.7</td>\n",
       "      <td>49.2</td>\n",
       "      <td>27.5</td>\n",
       "      <td>79.9</td>\n",
       "      <td>17.1</td>\n",
       "      <td>59.2</td>\n",
       "      <td>3.43</td>\n",
       "      <td>115.0</td>\n",
       "      <td>14.1</td>\n",
       "      <td>...</td>\n",
       "      <td>31.2</td>\n",
       "      <td>74.2</td>\n",
       "      <td>52.5</td>\n",
       "      <td>157.0</td>\n",
       "      <td>50.9</td>\n",
       "      <td>95.1</td>\n",
       "      <td>40.8</td>\n",
       "      <td>48.1</td>\n",
       "      <td>54.0</td>\n",
       "      <td>81.3</td>\n",
       "    </tr>\n",
       "    <tr>\n",
       "      <th>2</th>\n",
       "      <td>132.0</td>\n",
       "      <td>39.3</td>\n",
       "      <td>50.1</td>\n",
       "      <td>27.7</td>\n",
       "      <td>82.5</td>\n",
       "      <td>19.5</td>\n",
       "      <td>67.9</td>\n",
       "      <td>3.67</td>\n",
       "      <td>126.0</td>\n",
       "      <td>13.9</td>\n",
       "      <td>...</td>\n",
       "      <td>35.4</td>\n",
       "      <td>73.6</td>\n",
       "      <td>52.4</td>\n",
       "      <td>160.0</td>\n",
       "      <td>52.1</td>\n",
       "      <td>98.2</td>\n",
       "      <td>44.0</td>\n",
       "      <td>50.6</td>\n",
       "      <td>54.5</td>\n",
       "      <td>81.5</td>\n",
       "    </tr>\n",
       "    <tr>\n",
       "      <th>3</th>\n",
       "      <td>136.0</td>\n",
       "      <td>38.5</td>\n",
       "      <td>51.4</td>\n",
       "      <td>26.0</td>\n",
       "      <td>79.7</td>\n",
       "      <td>20.4</td>\n",
       "      <td>65.7</td>\n",
       "      <td>4.01</td>\n",
       "      <td>127.0</td>\n",
       "      <td>14.3</td>\n",
       "      <td>...</td>\n",
       "      <td>36.9</td>\n",
       "      <td>78.9</td>\n",
       "      <td>57.9</td>\n",
       "      <td>161.0</td>\n",
       "      <td>55.9</td>\n",
       "      <td>98.8</td>\n",
       "      <td>40.9</td>\n",
       "      <td>51.1</td>\n",
       "      <td>54.0</td>\n",
       "      <td>81.2</td>\n",
       "    </tr>\n",
       "    <tr>\n",
       "      <th>4</th>\n",
       "      <td>138.0</td>\n",
       "      <td>38.5</td>\n",
       "      <td>51.4</td>\n",
       "      <td>24.0</td>\n",
       "      <td>79.7</td>\n",
       "      <td>19.7</td>\n",
       "      <td>60.9</td>\n",
       "      <td>4.03</td>\n",
       "      <td>120.0</td>\n",
       "      <td>14.3</td>\n",
       "      <td>...</td>\n",
       "      <td>34.7</td>\n",
       "      <td>78.5</td>\n",
       "      <td>55.7</td>\n",
       "      <td>152.0</td>\n",
       "      <td>49.3</td>\n",
       "      <td>95.9</td>\n",
       "      <td>43.4</td>\n",
       "      <td>52.5</td>\n",
       "      <td>54.5</td>\n",
       "      <td>81.5</td>\n",
       "    </tr>\n",
       "  </tbody>\n",
       "</table>\n",
       "<p>5 rows × 390 columns</p>\n",
       "</div>"
      ],
      "text/plain": [
       "     MMM   ABT  ABBV  ABMD   ACN  ATVI  ADBE   AMD    AAP   AES  ...   PWR  \\\n",
       "0  138.0  38.2  52.0  26.9  81.1  18.1  59.3  3.95  110.0  14.3  ...  31.3   \n",
       "1  128.0  36.7  49.2  27.5  79.9  17.1  59.2  3.43  115.0  14.1  ...  31.2   \n",
       "2  132.0  39.3  50.1  27.7  82.5  19.5  67.9  3.67  126.0  13.9  ...  35.4   \n",
       "3  136.0  38.5  51.4  26.0  79.7  20.4  65.7  4.01  127.0  14.3  ...  36.9   \n",
       "4  138.0  38.5  51.4  24.0  79.7  19.7  60.9  4.03  120.0  14.3  ...  34.7   \n",
       "\n",
       "   QCOM   DGX     RL   RJF   RTN     O   REG  SCHP   BND  \n",
       "0  73.3  52.8  175.0  51.5  88.8  37.3  46.0  52.7  80.1  \n",
       "1  74.2  52.5  157.0  50.9  95.1  40.8  48.1  54.0  81.3  \n",
       "2  73.6  52.4  160.0  52.1  98.2  44.0  50.6  54.5  81.5  \n",
       "3  78.9  57.9  161.0  55.9  98.8  40.9  51.1  54.0  81.2  \n",
       "4  78.5  55.7  152.0  49.3  95.9  43.4  52.5  54.5  81.5  \n",
       "\n",
       "[5 rows x 390 columns]"
      ]
     },
     "execution_count": 1,
     "metadata": {},
     "output_type": "execute_result"
    }
   ],
   "source": [
    "##### Reading Data\n",
    "\n",
    "import pandas as pd\n",
    "import numpy as np\n",
    "from gurobipy import *\n",
    "\n",
    "df = pd.read_csv('Prices.csv')\n",
    "df.head()"
   ]
  },
  {
   "cell_type": "code",
   "execution_count": 2,
   "metadata": {
    "tags": []
   },
   "outputs": [
    {
     "name": "stdout",
     "output_type": "stream",
     "text": [
      "importing Jupyter notebook from Assignment 2 Preprocessing.ipynb\n"
     ]
    }
   ],
   "source": [
    "##### Pre processing\n",
    "\n",
    "import import_ipynb\n",
    "import Assignment_2_Preprocessing as preprocessing"
   ]
  },
  {
   "cell_type": "code",
   "execution_count": 3,
   "metadata": {
    "tags": []
   },
   "outputs": [],
   "source": [
    "msft_index = df.columns.get_loc('MSFT')\n",
    "gs_index = df.columns.get_loc('GS')\n",
    "pg_index = df.columns.get_loc('PG')\n",
    "schp_index = df.columns.get_loc('SCHP')\n",
    "\n",
    "C = preprocessing.C\n",
    "\n",
    "r = preprocessing.avg_return"
   ]
  },
  {
   "cell_type": "code",
   "execution_count": 4,
   "metadata": {},
   "outputs": [
    {
     "name": "stdout",
     "output_type": "stream",
     "text": [
      "Set parameter Username\n",
      "Academic license - for non-commercial use only - expires 2025-01-17\n",
      "Gurobi Optimizer version 11.0.0 build v11.0.0rc2 (mac64[rosetta2] - Darwin 23.0.0 23A344)\n",
      "\n",
      "CPU model: Apple M1\n",
      "Thread count: 8 physical cores, 8 logical processors, using up to 8 threads\n",
      "\n",
      "Optimize a model with 6 rows, 4 columns and 12 nonzeros\n",
      "Model fingerprint: 0x24f4abf9\n",
      "Model has 10 quadratic objective terms\n",
      "Coefficient statistics:\n",
      "  Matrix range     [2e-04, 1e+00]\n",
      "  Objective range  [0e+00, 0e+00]\n",
      "  QObjective range [5e-05, 7e-03]\n",
      "  Bounds range     [0e+00, 0e+00]\n",
      "  RHS range        [5e-03, 1e+00]\n",
      "Presolve removed 4 rows and 0 columns\n",
      "Presolve time: 0.03s\n",
      "Presolved: 2 rows, 4 columns, 8 nonzeros\n",
      "Presolved model has 10 quadratic objective terms\n",
      "Ordering time: 0.00s\n",
      "\n",
      "Barrier statistics:\n",
      " Free vars  : 3\n",
      " AA' NZ     : 1.000e+01\n",
      " Factor NZ  : 1.500e+01\n",
      " Factor Ops : 5.500e+01 (less than 1 second per iteration)\n",
      " Threads    : 1\n",
      "\n",
      "                  Objective                Residual\n",
      "Iter       Primal          Dual         Primal    Dual     Compl     Time\n",
      "   0   2.93770406e+03 -2.93770406e+03  4.00e+03 5.11e-07  1.00e+06     0s\n",
      "   1   1.52670591e+01 -3.13764123e+01  1.34e+02 1.71e-08  3.40e+04     0s\n",
      "   2   2.34842123e-03 -1.69659411e+01  1.34e-04 1.83e-14  2.17e+02     0s\n",
      "   3   2.34792126e-03 -1.90563990e-02  3.51e-08 5.20e-18  2.74e-01     0s\n",
      "   4   2.14500886e-03 -2.16783270e-03  6.03e-09 5.55e-17  5.52e-02     0s\n",
      "   5   2.04396706e-04 -4.06555018e-03  4.41e-10 4.16e-17  5.47e-02     0s\n",
      "   6   1.98547726e-04  1.20026231e-04  5.35e-12 0.00e+00  1.01e-03     0s\n",
      "   7   1.80195089e-04  1.76614023e-04  4.66e-15 1.39e-17  4.58e-05     0s\n",
      "   8   1.77508264e-04  1.77488122e-04  2.89e-15 1.39e-17  2.58e-07     0s\n",
      "   9   1.77493279e-04  1.77493259e-04  1.38e-14 5.42e-20  2.58e-10     0s\n",
      "\n",
      "Barrier solved model in 9 iterations and 0.07 seconds (0.00 work units)\n",
      "Optimal objective 1.77493279e-04\n",
      "\n"
     ]
    }
   ],
   "source": [
    "# Model 1\n",
    "model1 = Model()\n",
    "rho = 0.005\n",
    "\n",
    "index_arr = [msft_index, gs_index, pg_index, schp_index]\n",
    "\n",
    "C_1 = [[C[i][j] for i in index_arr] for j in index_arr]\n",
    "\n",
    "r_1 = [r[i] for i in index_arr]\n",
    "    \n",
    "w = model1.addVars(4)\n",
    "\n",
    "# Constraints:\n",
    "model1.addConstr(sum(w[i]*r_1[i] for i in range(4)) >= rho)\n",
    "model1.addConstr(sum(w[i] for i in range(4)) == 1)\n",
    "model1.addConstrs(w[i] >= 0 for i in range(4))\n",
    "\n",
    "# Objective function:\n",
    "model1.setObjective(sum(w[i]*w[j]*C_1[i][j] for i in range(4) for j in range(4)), GRB.MINIMIZE)\n",
    "\n",
    "model1.update()\n",
    "model1.optimize()"
   ]
  },
  {
   "cell_type": "code",
   "execution_count": 5,
   "metadata": {},
   "outputs": [
    {
     "name": "stdout",
     "output_type": "stream",
     "text": [
      "Gurobi Optimizer version 11.0.0 build v11.0.0rc2 (mac64[rosetta2] - Darwin 23.0.0 23A344)\n",
      "\n",
      "CPU model: Apple M1\n",
      "Thread count: 8 physical cores, 8 logical processors, using up to 8 threads\n",
      "\n",
      "Optimize a model with 392 rows, 390 columns and 1170 nonzeros\n",
      "Model fingerprint: 0x509900e3\n",
      "Model has 76245 quadratic objective terms\n",
      "Coefficient statistics:\n",
      "  Matrix range     [1e-06, 1e+00]\n",
      "  Objective range  [0e+00, 0e+00]\n",
      "  QObjective range [2e-07, 8e-02]\n",
      "  Bounds range     [0e+00, 0e+00]\n",
      "  RHS range        [5e-03, 1e+00]\n",
      "Presolve removed 390 rows and 0 columns\n",
      "Presolve time: 0.01s\n",
      "Presolved: 2 rows, 390 columns, 780 nonzeros\n",
      "Presolved model has 76245 quadratic objective terms\n",
      "Ordering time: 0.00s\n",
      "\n",
      "Barrier statistics:\n",
      " Free vars  : 59\n",
      " AA' NZ     : 1.830e+03\n",
      " Factor NZ  : 1.891e+03\n",
      " Factor Ops : 7.753e+04 (less than 1 second per iteration)\n",
      " Threads    : 8\n",
      "\n",
      "                  Objective                Residual\n",
      "Iter       Primal          Dual         Primal    Dual     Compl     Time\n",
      "   0   1.10520633e-17 -1.10520633e-17  3.90e+05 1.86e-08  1.00e+06     0s\n",
      "   1   1.32403095e+02 -1.40151246e+02  1.14e+04 5.42e-10  2.92e+04     0s\n",
      "   2   1.53493902e+00 -9.57482645e+00  1.02e+02 4.86e-12  2.67e+02     0s\n",
      "   3   1.17587702e-03 -7.92081818e+00  1.02e-04 8.88e-16  2.59e+00     0s\n",
      "   4   1.17509605e-03 -1.01300882e-02  4.36e-08 1.39e-17  3.70e-03     0s\n",
      "   5   8.22186010e-04 -1.13464664e-03  4.77e-09 2.78e-17  6.41e-04     0s\n",
      "   6   3.78013352e-04 -5.97431608e-04  4.22e-15 2.78e-16  3.19e-04     0s\n",
      "   7   2.05319383e-04 -1.66218904e-04  2.50e-16 8.33e-17  1.22e-04     0s\n",
      "   8   9.53707757e-05 -4.26667932e-05  8.88e-16 8.33e-17  4.52e-05     0s\n",
      "   9   6.93295928e-05  3.06840100e-06  2.91e-16 3.47e-17  2.17e-05     0s\n",
      "  10   4.16952119e-05  2.32922123e-05  1.11e-15 4.16e-17  6.02e-06     0s\n",
      "  11   3.39225828e-05  2.74051911e-05  2.22e-15 2.78e-17  2.13e-06     0s\n",
      "  12   3.04655599e-05  2.85032903e-05  6.22e-15 2.20e-17  6.42e-07     0s\n",
      "  13   2.89580888e-05  2.87642150e-05  8.66e-15 2.08e-17  6.35e-08     0s\n",
      "  14   2.87917525e-05  2.87842956e-05  1.22e-14 1.39e-17  2.44e-09     0s\n",
      "\n",
      "Barrier solved model in 14 iterations and 0.05 seconds (0.01 work units)\n",
      "Optimal objective 2.87917525e-05\n",
      "\n"
     ]
    }
   ],
   "source": [
    "# Model 2\n",
    "model2 = Model()\n",
    "rho = 0.005\n",
    "    \n",
    "w = model2.addVars(390)\n",
    "\n",
    "# Constraints:\n",
    "model2.addConstr(sum(w[i]*r[i] for i in range(390)) >= rho)\n",
    "model2.addConstr(sum(w[i] for i in range(390)) == 1)\n",
    "model2.addConstrs(w[i] >= 0 for i in range(390))\n",
    "\n",
    "# Objective function:\n",
    "model2.setObjective(sum(w[i]*w[j]*C[i][j] for i in range(390) for j in range(390)), GRB.MINIMIZE)\n",
    "\n",
    "model2.update()\n",
    "model2.optimize()"
   ]
  },
  {
   "cell_type": "code",
   "execution_count": 6,
   "metadata": {},
   "outputs": [
    {
     "data": {
      "text/plain": [
       "0.9999152765661383"
      ]
     },
     "execution_count": 6,
     "metadata": {},
     "output_type": "execute_result"
    }
   ],
   "source": [
    "val_arr = [(i,w[i].x) for i in range(390) if w[i].x >= 0.00001] # threshold of stocks...change RHS to improve/reduce sum value (~1)\n",
    "\n",
    "stocks_inds = [val_arr[i][0] for i in range (len(val_arr))]\n",
    "stocks_inds # stock indices\n",
    "\n",
    "returns = [0 + val_arr[i][1] for i in range (len(val_arr))]\n",
    "sum(returns)"
   ]
  },
  {
   "cell_type": "code",
   "execution_count": 7,
   "metadata": {},
   "outputs": [
    {
     "name": "stdout",
     "output_type": "stream",
     "text": [
      "Gurobi Optimizer version 11.0.0 build v11.0.0rc2 (mac64[rosetta2] - Darwin 23.0.0 23A344)\n",
      "\n",
      "CPU model: Apple M1\n",
      "Thread count: 8 physical cores, 8 logical processors, using up to 8 threads\n",
      "\n",
      "Optimize a model with 392 rows, 1170 columns and 1170 nonzeros\n",
      "Model fingerprint: 0x18276b8c\n",
      "Model has 76245 quadratic objective terms\n",
      "Model has 391 quadratic constraints\n",
      "Variable types: 780 continuous, 390 integer (390 binary)\n",
      "Coefficient statistics:\n",
      "  Matrix range     [1e-06, 1e+00]\n",
      "  QMatrix range    [1e+00, 1e+00]\n",
      "  QLMatrix range   [1e+00, 1e+00]\n",
      "  Objective range  [0e+00, 0e+00]\n",
      "  QObjective range [2e-07, 8e-02]\n",
      "  Bounds range     [1e+00, 1e+00]\n",
      "  RHS range        [5e-03, 4e+00]\n",
      "  QRHS range       [1e+00, 1e+00]\n",
      "Presolve removed 390 rows and 0 columns\n",
      "Presolve time: 0.04s\n",
      "Presolved: 1173 rows, 2340 columns, 3900 nonzeros\n",
      "Presolved model has 780 SOS constraint(s)\n",
      "Presolved model has 76245 quadratic objective terms\n",
      "Variable types: 1560 continuous, 780 integer (780 binary)\n",
      "Found heuristic solution: objective 0.0018152\n",
      "\n",
      "Root relaxation: objective 2.878501e-05, 5147 iterations, 0.19 seconds (0.52 work units)\n",
      "\n",
      "    Nodes    |    Current Node    |     Objective Bounds      |     Work\n",
      " Expl Unexpl |  Obj  Depth IntInf | Incumbent    BestBd   Gap | It/Node Time\n",
      "\n",
      "H    0     0                       0.0011847    0.00003  97.6%     -    0s\n",
      "H    0     0                       0.0007648    0.00003  96.2%     -    0s\n",
      "H    0     0                       0.0001258    0.00003  77.1%     -    0s\n",
      "H    0     0                       0.0000723    0.00003  60.2%     -    0s\n",
      "H    0     0                       0.0000676    0.00003  57.4%     -    0s\n",
      "     0     0    0.00003    0   22    0.00007    0.00003  55.9%     -    0s\n",
      "     0     0    0.00003    0   20    0.00007    0.00003  55.9%     -    0s\n",
      "     0     0    0.00003    0   60    0.00007    0.00003  55.9%     -    0s\n",
      "     0     0    0.00003    0   61    0.00007    0.00003  55.0%     -    0s\n",
      "     0     0    0.00003    0   61    0.00007    0.00003  54.2%     -    0s\n",
      "     0     2    0.00003    0   61    0.00007    0.00003  54.2%     -    0s\n",
      "H   33    26                       0.0000675    0.00003  54.2%  19.8    1s\n",
      "   940    46    0.00004   11   54    0.00007    0.00003  49.2%   256    5s\n",
      "  2581    44    0.00004   15   57    0.00007    0.00004  48.1%   265   10s\n",
      "  4157   121     cutoff   49         0.00007    0.00004  46.8%   279   15s\n",
      "  5827   343    0.00004   20   23    0.00007    0.00004  45.0%   277   20s\n",
      " 15092  3024     cutoff   34         0.00007    0.00005  23.7%   144   25s\n",
      " 25745  2274     cutoff   52         0.00007    0.00006  8.65%   116   30s\n",
      " 31773     0     cutoff   54         0.00007    0.00007  2.51%   121   35s\n",
      "\n",
      "Cutting planes:\n",
      "  MIR: 1\n",
      "\n",
      "Explored 32378 nodes (3913679 simplex iterations) in 35.26 seconds (80.28 work units)\n",
      "Thread count was 8 (of 8 available processors)\n",
      "\n",
      "Solution count 7: 6.75347e-05 6.75857e-05 7.23026e-05 ... 0.00181516\n",
      "\n",
      "Optimal solution found (tolerance 1.00e-04)\n",
      "Best objective 6.753470760728e-05, best bound 6.753470760728e-05, gap 0.0000%\n"
     ]
    }
   ],
   "source": [
    "# Model 3\n",
    "model3 = Model()\n",
    "rho = 0.005\n",
    "    \n",
    "w = model3.addVars(390)\n",
    "b = model3.addVars(390, vtype = GRB.BINARY)\n",
    "z = model3.addVars(390)\n",
    "\n",
    "# Constraints:\n",
    "model3.addConstrs(z[i] == w[i]*b[i] for i in range(390))\n",
    "model3.addConstr(sum(b[i] for i in range(390)) <= 4)\n",
    "model3.addConstr(sum(z[i]*r[i] for i in range(390)) >= rho)\n",
    "model3.addConstr(sum(w[i]*b[i] for i in range(390)) == 1)\n",
    "model3.addConstrs(w[i] >= 0 for i in range(390))\n",
    "\n",
    "# Objective function:\n",
    "model3.setObjective(sum(z[i]*z[j]*C[i][j] for i in range(390) for j in range(390)), GRB.MINIMIZE)\n",
    "\n",
    "model3.update()\n",
    "model3.optimize()"
   ]
  },
  {
   "attachments": {},
   "cell_type": "markdown",
   "metadata": {
    "tags": []
   },
   "source": [
    "## Question 1\n",
    "\n",
    "### Formulate and solve each of the three models in Python, and then answer the following questions. For each part, also include your Gurobi output."
   ]
  },
  {
   "cell_type": "markdown",
   "metadata": {},
   "source": [
    "### Model 1"
   ]
  },
  {
   "cell_type": "code",
   "execution_count": 8,
   "metadata": {},
   "outputs": [
    {
     "name": "stdout",
     "output_type": "stream",
     "text": [
      "Gurobi Optimizer version 11.0.0 build v11.0.0rc2 (mac64[rosetta2] - Darwin 23.0.0 23A344)\n",
      "\n",
      "CPU model: Apple M1\n",
      "Thread count: 8 physical cores, 8 logical processors, using up to 8 threads\n",
      "\n",
      "Optimize a model with 6 rows, 4 columns and 12 nonzeros\n",
      "Model fingerprint: 0x24f4abf9\n",
      "Model has 10 quadratic objective terms\n",
      "Coefficient statistics:\n",
      "  Matrix range     [2e-04, 1e+00]\n",
      "  Objective range  [0e+00, 0e+00]\n",
      "  QObjective range [5e-05, 7e-03]\n",
      "  Bounds range     [0e+00, 0e+00]\n",
      "  RHS range        [5e-03, 1e+00]\n",
      "Presolve removed 4 rows and 0 columns\n",
      "Presolve time: 0.01s\n",
      "Presolved: 2 rows, 4 columns, 8 nonzeros\n",
      "Presolved model has 10 quadratic objective terms\n",
      "Ordering time: 0.00s\n",
      "\n",
      "Barrier statistics:\n",
      " Free vars  : 3\n",
      " AA' NZ     : 1.000e+01\n",
      " Factor NZ  : 1.500e+01\n",
      " Factor Ops : 5.500e+01 (less than 1 second per iteration)\n",
      " Threads    : 1\n",
      "\n",
      "                  Objective                Residual\n",
      "Iter       Primal          Dual         Primal    Dual     Compl     Time\n",
      "   0   2.93770406e+03 -2.93770406e+03  4.00e+03 5.11e-07  1.00e+06     0s\n",
      "   1   1.52670591e+01 -3.13764123e+01  1.34e+02 1.71e-08  3.40e+04     0s\n",
      "   2   2.34842123e-03 -1.69659411e+01  1.34e-04 1.83e-14  2.17e+02     0s\n",
      "   3   2.34792126e-03 -1.90563990e-02  3.51e-08 5.20e-18  2.74e-01     0s\n",
      "   4   2.14500886e-03 -2.16783270e-03  6.03e-09 5.55e-17  5.52e-02     0s\n",
      "   5   2.04396706e-04 -4.06555018e-03  4.41e-10 4.16e-17  5.47e-02     0s\n",
      "   6   1.98547726e-04  1.20026231e-04  5.35e-12 0.00e+00  1.01e-03     0s\n",
      "   7   1.80195089e-04  1.76614023e-04  4.66e-15 1.39e-17  4.58e-05     0s\n",
      "   8   1.77508264e-04  1.77488122e-04  2.89e-15 1.39e-17  2.58e-07     0s\n",
      "   9   1.77493279e-04  1.77493259e-04  1.38e-14 5.42e-20  2.58e-10     0s\n",
      "\n",
      "Barrier solved model in 9 iterations and 0.02 seconds (0.00 work units)\n",
      "Optimal objective 1.77493279e-04\n",
      "\n"
     ]
    }
   ],
   "source": [
    "# Model 1\n",
    "model1 = Model()\n",
    "rho = 0.005\n",
    "\n",
    "index_arr = [msft_index, gs_index, pg_index, schp_index]\n",
    "\n",
    "C_1 = [[C[i][j] for i in index_arr] for j in index_arr]\n",
    "\n",
    "r_1 = [r[i] for i in index_arr]\n",
    "    \n",
    "w = model1.addVars(4)\n",
    "\n",
    "# Constraints:\n",
    "model1.addConstr(sum(w[i]*r_1[i] for i in range(4)) >= rho)\n",
    "model1.addConstr(sum(w[i] for i in range(4)) == 1)\n",
    "model1.addConstrs(w[i] >= 0 for i in range(4))\n",
    "\n",
    "# Objective function:\n",
    "model1.setObjective(sum(w[i]*w[j]*C_1[i][j] for i in range(4) for j in range(4)), GRB.MINIMIZE)\n",
    "\n",
    "model1.update()\n",
    "model1.optimize()"
   ]
  },
  {
   "cell_type": "markdown",
   "metadata": {},
   "source": [
    "### a) For Model 1, write down the optimal risk (i.e. the optimal objective function value), solver time, and the weight on each of the four stocks."
   ]
  },
  {
   "cell_type": "code",
   "execution_count": 9,
   "metadata": {
    "tags": []
   },
   "outputs": [
    {
     "name": "stdout",
     "output_type": "stream",
     "text": [
      "Optimal Risk Acieved:  0.00018\n",
      "Solver Time Taken: 0.02363 s\n",
      "\n",
      "MSFT   23.71176 %\n",
      "GS   2.58596 %\n",
      "PG   0.0 %\n",
      "SCHP   73.70228 %\n"
     ]
    }
   ],
   "source": [
    "optimal_risk = model1.objVal\n",
    "\n",
    "solver_time = model1.Runtime\n",
    "\n",
    "optimal_weights = [(df.columns[index_arr[i]],w[i].x) for i in range(4)]\n",
    "\n",
    "print(\"Optimal Risk Acieved: \", np.round(optimal_risk, 5))\n",
    "print(\"Solver Time Taken:\", np.round(solver_time,5), \"s\\n\")\n",
    "\n",
    "for stock, weight in optimal_weights:\n",
    "    print(stock,\" \", np.round(weight*100,5),\"%\")"
   ]
  },
  {
   "cell_type": "markdown",
   "metadata": {},
   "source": [
    "### Model 2"
   ]
  },
  {
   "cell_type": "code",
   "execution_count": 10,
   "metadata": {},
   "outputs": [
    {
     "name": "stdout",
     "output_type": "stream",
     "text": [
      "Gurobi Optimizer version 11.0.0 build v11.0.0rc2 (mac64[rosetta2] - Darwin 23.0.0 23A344)\n",
      "\n",
      "CPU model: Apple M1\n",
      "Thread count: 8 physical cores, 8 logical processors, using up to 8 threads\n",
      "\n",
      "Optimize a model with 392 rows, 390 columns and 1170 nonzeros\n",
      "Model fingerprint: 0x509900e3\n",
      "Model has 76245 quadratic objective terms\n",
      "Coefficient statistics:\n",
      "  Matrix range     [1e-06, 1e+00]\n",
      "  Objective range  [0e+00, 0e+00]\n",
      "  QObjective range [2e-07, 8e-02]\n",
      "  Bounds range     [0e+00, 0e+00]\n",
      "  RHS range        [5e-03, 1e+00]\n",
      "Presolve removed 390 rows and 0 columns\n",
      "Presolve time: 0.01s\n",
      "Presolved: 2 rows, 390 columns, 780 nonzeros\n",
      "Presolved model has 76245 quadratic objective terms\n",
      "Ordering time: 0.00s\n",
      "\n",
      "Barrier statistics:\n",
      " Free vars  : 59\n",
      " AA' NZ     : 1.830e+03\n",
      " Factor NZ  : 1.891e+03\n",
      " Factor Ops : 7.753e+04 (less than 1 second per iteration)\n",
      " Threads    : 8\n",
      "\n",
      "                  Objective                Residual\n",
      "Iter       Primal          Dual         Primal    Dual     Compl     Time\n",
      "   0   1.10520633e-17 -1.10520633e-17  3.90e+05 1.86e-08  1.00e+06     0s\n",
      "   1   1.32403095e+02 -1.40151246e+02  1.14e+04 5.42e-10  2.92e+04     0s\n",
      "   2   1.53493902e+00 -9.57482645e+00  1.02e+02 4.86e-12  2.67e+02     0s\n",
      "   3   1.17587702e-03 -7.92081818e+00  1.02e-04 8.88e-16  2.59e+00     0s\n",
      "   4   1.17509605e-03 -1.01300882e-02  4.36e-08 1.39e-17  3.70e-03     0s\n",
      "   5   8.22186010e-04 -1.13464664e-03  4.77e-09 2.78e-17  6.41e-04     0s\n",
      "   6   3.78013352e-04 -5.97431608e-04  4.22e-15 2.78e-16  3.19e-04     0s\n",
      "   7   2.05319383e-04 -1.66218904e-04  2.50e-16 8.33e-17  1.22e-04     0s\n",
      "   8   9.53707757e-05 -4.26667932e-05  8.88e-16 8.33e-17  4.52e-05     0s\n",
      "   9   6.93295928e-05  3.06840100e-06  2.91e-16 3.47e-17  2.17e-05     0s\n",
      "  10   4.16952119e-05  2.32922123e-05  1.11e-15 4.16e-17  6.02e-06     0s\n",
      "  11   3.39225828e-05  2.74051911e-05  2.22e-15 2.78e-17  2.13e-06     0s\n",
      "  12   3.04655599e-05  2.85032903e-05  6.22e-15 2.20e-17  6.42e-07     0s\n",
      "  13   2.89580888e-05  2.87642150e-05  8.66e-15 2.08e-17  6.35e-08     0s\n",
      "  14   2.87917525e-05  2.87842956e-05  1.22e-14 1.39e-17  2.44e-09     0s\n",
      "\n",
      "Barrier solved model in 14 iterations and 0.07 seconds (0.01 work units)\n",
      "Optimal objective 2.87917525e-05\n",
      "\n"
     ]
    }
   ],
   "source": [
    "# Model 2\n",
    "model2 = Model()\n",
    "rho = 0.005\n",
    "    \n",
    "w = model2.addVars(390)\n",
    "\n",
    "# Constraints:\n",
    "model2.addConstr(sum(w[i]*r[i] for i in range(390)) >= rho)\n",
    "model2.addConstr(sum(w[i] for i in range(390)) == 1)\n",
    "model2.addConstrs(w[i] >= 0 for i in range(390))\n",
    "\n",
    "# Objective function:\n",
    "model2.setObjective(sum(w[i]*w[j]*C[i][j] for i in range(390) for j in range(390)), GRB.MINIMIZE)\n",
    "\n",
    "model2.update()\n",
    "model2.optimize()"
   ]
  },
  {
   "cell_type": "code",
   "execution_count": 11,
   "metadata": {
    "tags": []
   },
   "outputs": [
    {
     "data": {
      "text/plain": [
       "0.9999152765661383"
      ]
     },
     "execution_count": 11,
     "metadata": {},
     "output_type": "execute_result"
    }
   ],
   "source": [
    "val_arr = [(i,w[i].x) for i in range(390) if w[i].x >= 0.00001] # threshold of stocks...change RHS to improve/reduce sum value (~1)\n",
    "\n",
    "stocks_inds = [val_arr[i][0] for i in range (len(val_arr))]\n",
    "stocks_inds # stock indices\n",
    "\n",
    "returns = [0 + val_arr[i][1] for i in range (len(val_arr))]\n",
    "sum(returns)"
   ]
  },
  {
   "cell_type": "markdown",
   "metadata": {
    "tags": []
   },
   "source": [
    "### b) For Model 2, write down the optimal risk and solver time."
   ]
  },
  {
   "cell_type": "code",
   "execution_count": 12,
   "metadata": {
    "scrolled": true,
    "tags": []
   },
   "outputs": [
    {
     "name": "stdout",
     "output_type": "stream",
     "text": [
      "Optimal Risk Acieved:  3e-05\n",
      "Solver Time Taken: 0.07611 s\n",
      "\n",
      "ABBV   1.1364 %\n",
      "ABMD   0.66541 %\n",
      "ATVI   1.36743 %\n",
      "ANET   1.17532 %\n",
      "AIZ   2.22128 %\n",
      "ATO   2.90637 %\n",
      "BBY   0.26065 %\n",
      "CME   1.27911 %\n",
      "ED   0.04017 %\n",
      "DRI   0.66555 %\n",
      "RE   0.23315 %\n",
      "GWW   0.77415 %\n",
      "HAS   0.24506 %\n",
      "HCA   2.95684 %\n",
      "HUM   2.26682 %\n",
      "INFO   5.17086 %\n",
      "ICE   1.417 %\n",
      "KEYS   2.21688 %\n",
      "LHX   0.00746 %\n",
      "LLY   0.8515 %\n",
      "LMT   0.06075 %\n",
      "PSX   0.79815 %\n",
      "PNC   3.2313 %\n",
      "PWR   0.00104 %\n",
      "BND   68.04286 %\n"
     ]
    }
   ],
   "source": [
    "optimal_risk = model2.objVal\n",
    "\n",
    "solver_time = model2.Runtime\n",
    "\n",
    "print(\"Optimal Risk Acieved: \", np.round(optimal_risk, 5))\n",
    "print(\"Solver Time Taken:\", np.round(solver_time,5), \"s\\n\")\n",
    "\n",
    "val_arr = [(i,w[i].x) for i in range(390) if w[i].x > 0.00001]\n",
    "\n",
    "for k,v in val_arr:\n",
    "    print(df.columns[k], \" \", np.round(v*100,5),\"%\")"
   ]
  },
  {
   "cell_type": "markdown",
   "metadata": {},
   "source": [
    "### Model 3"
   ]
  },
  {
   "cell_type": "code",
   "execution_count": 13,
   "metadata": {
    "tags": []
   },
   "outputs": [
    {
     "name": "stdout",
     "output_type": "stream",
     "text": [
      "Gurobi Optimizer version 11.0.0 build v11.0.0rc2 (mac64[rosetta2] - Darwin 23.0.0 23A344)\n",
      "\n",
      "CPU model: Apple M1\n",
      "Thread count: 8 physical cores, 8 logical processors, using up to 8 threads\n",
      "\n",
      "Optimize a model with 392 rows, 1170 columns and 1170 nonzeros\n",
      "Model fingerprint: 0x18276b8c\n",
      "Model has 76245 quadratic objective terms\n",
      "Model has 391 quadratic constraints\n",
      "Variable types: 780 continuous, 390 integer (390 binary)\n",
      "Coefficient statistics:\n",
      "  Matrix range     [1e-06, 1e+00]\n",
      "  QMatrix range    [1e+00, 1e+00]\n",
      "  QLMatrix range   [1e+00, 1e+00]\n",
      "  Objective range  [0e+00, 0e+00]\n",
      "  QObjective range [2e-07, 8e-02]\n",
      "  Bounds range     [1e+00, 1e+00]\n",
      "  RHS range        [5e-03, 4e+00]\n",
      "  QRHS range       [1e+00, 1e+00]\n",
      "Presolve removed 390 rows and 0 columns\n",
      "Presolve time: 0.01s\n",
      "Presolved: 1173 rows, 2340 columns, 3900 nonzeros\n",
      "Presolved model has 780 SOS constraint(s)\n",
      "Presolved model has 76245 quadratic objective terms\n",
      "Variable types: 1560 continuous, 780 integer (780 binary)\n",
      "Found heuristic solution: objective 0.0018152\n",
      "\n",
      "Root relaxation: objective 2.878501e-05, 5147 iterations, 0.18 seconds (0.52 work units)\n",
      "\n",
      "    Nodes    |    Current Node    |     Objective Bounds      |     Work\n",
      " Expl Unexpl |  Obj  Depth IntInf | Incumbent    BestBd   Gap | It/Node Time\n",
      "\n",
      "H    0     0                       0.0011847    0.00003  97.6%     -    0s\n",
      "H    0     0                       0.0007648    0.00003  96.2%     -    0s\n",
      "H    0     0                       0.0001258    0.00003  77.1%     -    0s\n",
      "H    0     0                       0.0000723    0.00003  60.2%     -    0s\n",
      "H    0     0                       0.0000676    0.00003  57.4%     -    0s\n",
      "     0     0    0.00003    0   22    0.00007    0.00003  55.9%     -    0s\n",
      "     0     0    0.00003    0   20    0.00007    0.00003  55.9%     -    0s\n",
      "     0     0    0.00003    0   60    0.00007    0.00003  55.9%     -    0s\n",
      "     0     0    0.00003    0   61    0.00007    0.00003  55.0%     -    0s\n",
      "     0     0    0.00003    0   61    0.00007    0.00003  54.2%     -    0s\n",
      "     0     2    0.00003    0   61    0.00007    0.00003  54.2%     -    0s\n",
      "H   33    26                       0.0000675    0.00003  54.2%  19.8    0s\n",
      "   990    43    0.00004   13   52    0.00007    0.00003  49.2%   255    5s\n",
      "  2581    44    0.00004   15   57    0.00007    0.00004  48.1%   265   10s\n",
      "  4023   127    0.00006   39   40    0.00007    0.00004  46.9%   275   15s\n",
      "  5455   280    0.00005   28   45    0.00007    0.00004  45.0%   284   20s\n",
      " 13260  2793     cutoff   29         0.00007    0.00005  27.8%   156   25s\n",
      " 24349  2609     cutoff   48         0.00007    0.00006  10.2%   116   30s\n",
      " 30202   843     cutoff   50         0.00007    0.00006  4.27%   119   35s\n",
      "\n",
      "Cutting planes:\n",
      "  MIR: 1\n",
      "\n",
      "Explored 32378 nodes (3913679 simplex iterations) in 36.45 seconds (80.28 work units)\n",
      "Thread count was 8 (of 8 available processors)\n",
      "\n",
      "Solution count 7: 6.75347e-05 6.75857e-05 7.23026e-05 ... 0.00181516\n",
      "\n",
      "Optimal solution found (tolerance 1.00e-04)\n",
      "Best objective 6.753470760728e-05, best bound 6.753470760728e-05, gap 0.0000%\n"
     ]
    }
   ],
   "source": [
    "# Model 3\n",
    "model3 = Model()\n",
    "rho = 0.005\n",
    "    \n",
    "w = model3.addVars(390)\n",
    "b = model3.addVars(390, vtype = GRB.BINARY)\n",
    "z = model3.addVars(390)\n",
    "\n",
    "# Constraints:\n",
    "model3.addConstrs(z[i] == w[i]*b[i] for i in range(390))\n",
    "model3.addConstr(sum(b[i] for i in range(390)) <= 4)\n",
    "model3.addConstr(sum(z[i]*r[i] for i in range(390)) >= rho)\n",
    "model3.addConstr(sum(w[i]*b[i] for i in range(390)) == 1)\n",
    "model3.addConstrs(w[i] >= 0 for i in range(390))\n",
    "\n",
    "# Objective function:\n",
    "model3.setObjective(sum(z[i]*z[j]*C[i][j] for i in range(390) for j in range(390)), GRB.MINIMIZE)\n",
    "\n",
    "model3.update()\n",
    "model3.optimize()"
   ]
  },
  {
   "cell_type": "markdown",
   "metadata": {
    "tags": []
   },
   "source": [
    "### c) For Model 3, report the optimal risk, solver time, and the ticker and weight on each of the four stocks selected by the model."
   ]
  },
  {
   "cell_type": "code",
   "execution_count": 14,
   "metadata": {
    "tags": []
   },
   "outputs": [
    {
     "name": "stdout",
     "output_type": "stream",
     "text": [
      "Optimal Risk Acieved:  7e-05\n",
      "Solver Time Taken: 36.45018 s\n",
      "\n",
      "CME   12.64 %\n",
      "LLY   7.55 %\n",
      "NVDA   4.38 %\n",
      "BND   75.44 %\n"
     ]
    }
   ],
   "source": [
    "val_arr = [(i,w[i].x) for i in range(390) if w[i].x > 0]\n",
    "returns = [0 + val_arr[i][1] for i in range (len(val_arr))]\n",
    "sum(returns)\n",
    "\n",
    "optimal_risk = model3.objVal\n",
    "\n",
    "solver_time = model3.Runtime\n",
    "\n",
    "print(\"Optimal Risk Acieved: \", np.round(optimal_risk, 5))\n",
    "print(\"Solver Time Taken:\", np.round(solver_time,5), \"s\\n\")\n",
    "\n",
    "# printing as table\n",
    "for k,v in val_arr:\n",
    "    print(df.columns[k], \" \", np.round(v*100,2),\"%\")"
   ]
  },
  {
   "cell_type": "markdown",
   "metadata": {
    "tags": []
   },
   "source": [
    "## Question 2\n",
    "\n",
    "### Use your solution to Question 1 above to answer the following questions:"
   ]
  },
  {
   "cell_type": "markdown",
   "metadata": {},
   "source": [
    "### a) Is the optimal risk in Model 1 higher or lower than Model 2? Explain why in 1-2 sentences."
   ]
  },
  {
   "cell_type": "markdown",
   "metadata": {},
   "source": [
    "### Ans\n",
    "\n",
    "The optimal risk is **lower** in Model 2 as we are including all possible risk portfolio from combination across all assets. This will help optimizer choose a better portfolio from a wider range of options instead of just 4 random assets."
   ]
  },
  {
   "cell_type": "markdown",
   "metadata": {
    "tags": []
   },
   "source": [
    "### b) Is the optimal risk in Model 2 higher or lower than Model 3? Explain why in 1-2 sentences."
   ]
  },
  {
   "cell_type": "markdown",
   "metadata": {},
   "source": [
    "### Ans\n",
    "\n",
    "The optimal risk is **slightly higher** in Model 3 compared to Model 2 because from all the possible combinations of assets, we are including a combination of just 4 assets into our risk portfolio. This will help optimizer choose from a large pool of combinations, but still won't be as exhaustive as in Model 2, due to the number restriction. Hence the optimal value observed is slightly higher."
   ]
  },
  {
   "cell_type": "markdown",
   "metadata": {
    "tags": []
   },
   "source": [
    "## Question 3\n",
    "\n",
    "### In some cases, we may want to get an approximate solution quickly by terminating the branch- and-bound algorithm before it finds an optimal solution. There are two ways to terminate Gurobi early: (a) by setting a maximum time limit, and (b) by setting a maximum acceptable optimality gap (the tolerance). Use Model 3 to answer the following two questions. For each part, also include your Gurobi output."
   ]
  },
  {
   "cell_type": "markdown",
   "metadata": {},
   "source": [
    "### a) Set Gurobi to terminate after 3 seconds by including XYZ.Params.TimeLimit = 3.0 in your code for Model 3, where ’XYZ’ is the name of your model. How does the objective function value at termination compare the optimal value obtained in question 1c)?"
   ]
  },
  {
   "cell_type": "code",
   "execution_count": 15,
   "metadata": {
    "tags": []
   },
   "outputs": [
    {
     "name": "stdout",
     "output_type": "stream",
     "text": [
      "Set parameter TimeLimit to value 3\n",
      "Gurobi Optimizer version 11.0.0 build v11.0.0rc2 (mac64[rosetta2] - Darwin 23.0.0 23A344)\n",
      "\n",
      "CPU model: Apple M1\n",
      "Thread count: 8 physical cores, 8 logical processors, using up to 8 threads\n",
      "\n",
      "Optimize a model with 392 rows, 1170 columns and 1170 nonzeros\n",
      "Model fingerprint: 0x18276b8c\n",
      "Model has 76245 quadratic objective terms\n",
      "Model has 391 quadratic constraints\n",
      "Variable types: 780 continuous, 390 integer (390 binary)\n",
      "Coefficient statistics:\n",
      "  Matrix range     [1e-06, 1e+00]\n",
      "  QMatrix range    [1e+00, 1e+00]\n",
      "  QLMatrix range   [1e+00, 1e+00]\n",
      "  Objective range  [0e+00, 0e+00]\n",
      "  QObjective range [2e-07, 8e-02]\n",
      "  Bounds range     [1e+00, 1e+00]\n",
      "  RHS range        [5e-03, 4e+00]\n",
      "  QRHS range       [1e+00, 1e+00]\n",
      "Presolve removed 390 rows and 0 columns\n",
      "Presolve time: 0.01s\n",
      "Presolved: 1173 rows, 2340 columns, 3900 nonzeros\n",
      "Presolved model has 780 SOS constraint(s)\n",
      "Presolved model has 76245 quadratic objective terms\n",
      "Variable types: 1560 continuous, 780 integer (780 binary)\n",
      "Found heuristic solution: objective 0.0018152\n",
      "\n",
      "Root relaxation: objective 2.878501e-05, 5147 iterations, 0.18 seconds (0.52 work units)\n",
      "\n",
      "    Nodes    |    Current Node    |     Objective Bounds      |     Work\n",
      " Expl Unexpl |  Obj  Depth IntInf | Incumbent    BestBd   Gap | It/Node Time\n",
      "\n",
      "H    0     0                       0.0011847    0.00003  97.6%     -    0s\n",
      "H    0     0                       0.0007648    0.00003  96.2%     -    0s\n",
      "H    0     0                       0.0001258    0.00003  77.1%     -    0s\n",
      "H    0     0                       0.0000723    0.00003  60.2%     -    0s\n",
      "H    0     0                       0.0000676    0.00003  57.4%     -    0s\n",
      "     0     0    0.00003    0   22    0.00007    0.00003  55.9%     -    0s\n",
      "     0     0    0.00003    0   20    0.00007    0.00003  55.9%     -    0s\n",
      "     0     0    0.00003    0   60    0.00007    0.00003  55.9%     -    0s\n",
      "     0     0    0.00003    0   61    0.00007    0.00003  55.0%     -    0s\n",
      "     0     0    0.00003    0   61    0.00007    0.00003  54.2%     -    0s\n",
      "     0     2    0.00003    0   61    0.00007    0.00003  54.2%     -    0s\n",
      "H   33    26                       0.0000675    0.00003  54.2%  19.8    0s\n",
      "\n",
      "Cutting planes:\n",
      "  Implied bound: 37\n",
      "  MIR: 2\n",
      "\n",
      "Explored 599 nodes (146624 simplex iterations) in 3.00 seconds (6.16 work units)\n",
      "Thread count was 8 (of 8 available processors)\n",
      "\n",
      "Solution count 7: 6.75347e-05 6.75857e-05 7.23026e-05 ... 0.00181516\n",
      "\n",
      "Time limit reached\n",
      "Best objective 6.753470760728e-05, best bound 3.339711061118e-05, gap 50.5482%\n"
     ]
    }
   ],
   "source": [
    "# Model 3\n",
    "model3 = Model()\n",
    "rho = 0.005\n",
    "    \n",
    "w = model3.addVars(390)\n",
    "b = model3.addVars(390, vtype = GRB.BINARY)\n",
    "z = model3.addVars(390)\n",
    "\n",
    "# Constraints:\n",
    "model3.addConstrs(z[i] == w[i]*b[i] for i in range(390))\n",
    "model3.addConstr(sum(b[i] for i in range(390)) <= 4)\n",
    "model3.addConstr(sum(z[i]*r[i] for i in range(390)) >= rho)\n",
    "model3.addConstr(sum(w[i]*b[i] for i in range(390)) == 1)\n",
    "model3.addConstrs(w[i] >= 0 for i in range(390))\n",
    "\n",
    "# Objective function:\n",
    "model3.setObjective(sum(z[i]*z[j]*C[i][j] for i in range(390) for j in range(390)), GRB.MINIMIZE)\n",
    "\n",
    "# Setting time limit\n",
    "model3.Params.TimeLimit = 3.0\n",
    "\n",
    "model3.update()\n",
    "model3.optimize()"
   ]
  },
  {
   "cell_type": "code",
   "execution_count": 16,
   "metadata": {
    "tags": []
   },
   "outputs": [
    {
     "name": "stdout",
     "output_type": "stream",
     "text": [
      "Optimal Risk Acieved:  7e-05\n",
      "Solver Time Taken: 3.00733 s\n",
      "\n"
     ]
    }
   ],
   "source": [
    "optimal_risk = model3.objVal\n",
    "\n",
    "solver_time = model3.Runtime\n",
    "\n",
    "print(\"Optimal Risk Acieved: \", np.round(optimal_risk, 5))\n",
    "print(\"Solver Time Taken:\", np.round(solver_time,5), \"s\\n\")"
   ]
  },
  {
   "cell_type": "markdown",
   "metadata": {},
   "source": [
    "### Ans\n",
    "\n",
    "From the above results, we can see that the optimal value of objective function **stays the same**."
   ]
  },
  {
   "cell_type": "markdown",
   "metadata": {
    "tags": []
   },
   "source": [
    "### b) Set Gurobi to terminate after reaching a gap of 10% by including XYZ.Params.MIPGap = 0.1 in your code for Model 3, where ’XYZ’ is the name of your model. (Note: The default gap in Gurobi is 0.0001.) How does the solver time compare with the solution time obtained in question 1c)?"
   ]
  },
  {
   "cell_type": "code",
   "execution_count": 17,
   "metadata": {
    "tags": []
   },
   "outputs": [
    {
     "name": "stdout",
     "output_type": "stream",
     "text": [
      "Set parameter MIPGap to value 0.1\n",
      "Gurobi Optimizer version 11.0.0 build v11.0.0rc2 (mac64[rosetta2] - Darwin 23.0.0 23A344)\n",
      "\n",
      "CPU model: Apple M1\n",
      "Thread count: 8 physical cores, 8 logical processors, using up to 8 threads\n",
      "\n",
      "Optimize a model with 392 rows, 1170 columns and 1170 nonzeros\n",
      "Model fingerprint: 0x18276b8c\n",
      "Model has 76245 quadratic objective terms\n",
      "Model has 391 quadratic constraints\n",
      "Variable types: 780 continuous, 390 integer (390 binary)\n",
      "Coefficient statistics:\n",
      "  Matrix range     [1e-06, 1e+00]\n",
      "  QMatrix range    [1e+00, 1e+00]\n",
      "  QLMatrix range   [1e+00, 1e+00]\n",
      "  Objective range  [0e+00, 0e+00]\n",
      "  QObjective range [2e-07, 8e-02]\n",
      "  Bounds range     [1e+00, 1e+00]\n",
      "  RHS range        [5e-03, 4e+00]\n",
      "  QRHS range       [1e+00, 1e+00]\n",
      "Presolve removed 390 rows and 0 columns\n",
      "Presolve time: 0.01s\n",
      "Presolved: 1173 rows, 2340 columns, 3900 nonzeros\n",
      "Presolved model has 780 SOS constraint(s)\n",
      "Presolved model has 76245 quadratic objective terms\n",
      "Variable types: 1560 continuous, 780 integer (780 binary)\n",
      "Found heuristic solution: objective 0.0018152\n",
      "\n",
      "Root relaxation: objective 2.878501e-05, 5147 iterations, 0.18 seconds (0.52 work units)\n",
      "\n",
      "    Nodes    |    Current Node    |     Objective Bounds      |     Work\n",
      " Expl Unexpl |  Obj  Depth IntInf | Incumbent    BestBd   Gap | It/Node Time\n",
      "\n",
      "H    0     0                       0.0011847    0.00003  97.6%     -    0s\n",
      "H    0     0                       0.0007648    0.00003  96.2%     -    0s\n",
      "H    0     0                       0.0001258    0.00003  77.1%     -    0s\n",
      "H    0     0                       0.0000723    0.00003  60.2%     -    0s\n",
      "H    0     0                       0.0000676    0.00003  57.4%     -    0s\n",
      "     0     0    0.00003    0   22    0.00007    0.00003  55.9%     -    0s\n",
      "     0     0    0.00003    0   20    0.00007    0.00003  55.9%     -    0s\n",
      "     0     0    0.00003    0   60    0.00007    0.00003  55.9%     -    0s\n",
      "     0     0    0.00003    0   61    0.00007    0.00003  55.0%     -    0s\n",
      "     0     0    0.00003    0   61    0.00007    0.00003  54.8%     -    0s\n",
      "     0     2    0.00003    0   61    0.00007    0.00003  54.8%     -    0s\n",
      "H   33    26                       0.0000675    0.00003  54.5%  20.0    0s\n",
      "  1130    23     cutoff   18         0.00007    0.00003  49.2%   230    5s\n",
      "  2570    86    0.00004   18   52    0.00007    0.00004  46.5%   251   10s\n",
      "  4190   103    0.00004   25   49    0.00007    0.00004  46.4%   259   15s\n",
      "  5737   107    0.00005   38   34    0.00007    0.00004  46.2%   267   20s\n",
      "  9796  1550    0.00006   46   19    0.00007    0.00004  36.8%   192   25s\n",
      " 20537  3251     cutoff   40         0.00007    0.00006  16.8%   121   30s\n",
      "\n",
      "Cutting planes:\n",
      "  MIR: 1\n",
      "\n",
      "Explored 26228 nodes (2952945 simplex iterations) in 32.78 seconds (69.76 work units)\n",
      "Thread count was 8 (of 8 available processors)\n",
      "\n",
      "Solution count 7: 6.75347e-05 6.75857e-05 7.23026e-05 ... 0.00181516\n",
      "\n",
      "Optimal solution found (tolerance 1.00e-01)\n",
      "Best objective 6.753470760728e-05, best bound 6.096688175146e-05, gap 9.7251%\n"
     ]
    }
   ],
   "source": [
    "# Model 3\n",
    "model3 = Model()\n",
    "rho = 0.005\n",
    "    \n",
    "w = model3.addVars(390)\n",
    "b = model3.addVars(390, vtype = GRB.BINARY)\n",
    "z = model3.addVars(390)\n",
    "\n",
    "# Constraints:\n",
    "model3.addConstrs(z[i] == w[i]*b[i] for i in range(390))\n",
    "model3.addConstr(sum(b[i] for i in range(390)) <= 4)\n",
    "model3.addConstr(sum(z[i]*r[i] for i in range(390)) >= rho)\n",
    "model3.addConstr(sum(w[i]*b[i] for i in range(390)) == 1)\n",
    "model3.addConstrs(w[i] >= 0 for i in range(390))\n",
    "\n",
    "# Objective function:\n",
    "model3.setObjective(sum(z[i]*z[j]*C[i][j] for i in range(390) for j in range(390)), GRB.MINIMIZE)\n",
    "\n",
    "# Setting time limit\n",
    "model3.Params.MIPGap = 0.1\n",
    "\n",
    "model3.update()\n",
    "model3.optimize()"
   ]
  },
  {
   "cell_type": "code",
   "execution_count": 18,
   "metadata": {
    "tags": []
   },
   "outputs": [
    {
     "name": "stdout",
     "output_type": "stream",
     "text": [
      "Optimal Risk Acieved:  7e-05\n",
      "Solver Time Taken: 32.78684 s\n",
      "\n"
     ]
    }
   ],
   "source": [
    "optimal_risk = model3.objVal\n",
    "\n",
    "solver_time = model3.Runtime\n",
    "\n",
    "print(\"Optimal Risk Acieved: \", np.round(optimal_risk, 5))\n",
    "print(\"Solver Time Taken:\", np.round(solver_time,5), \"s\\n\")"
   ]
  },
  {
   "cell_type": "markdown",
   "metadata": {},
   "source": [
    "### Ans\n",
    "\n",
    "From the above results, we can see that the optimal value of time taken by the model **goes up**."
   ]
  }
 ],
 "metadata": {
  "kernelspec": {
   "display_name": "Python 3",
   "language": "python",
   "name": "python3"
  },
  "language_info": {
   "codemirror_mode": {
    "name": "ipython",
    "version": 3
   },
   "file_extension": ".py",
   "mimetype": "text/x-python",
   "name": "python",
   "nbconvert_exporter": "python",
   "pygments_lexer": "ipython3",
   "version": "3.8.5"
  }
 },
 "nbformat": 4,
 "nbformat_minor": 5
}
